{
  "nbformat": 4,
  "nbformat_minor": 0,
  "metadata": {
    "colab": {
      "provenance": []
    },
    "kernelspec": {
      "name": "python3",
      "display_name": "Python 3"
    },
    "language_info": {
      "name": "python"
    }
  },
  "cells": [
    {
      "cell_type": "markdown",
      "source": [
        "## Installing the dependencies\n",
        "\n",
        "- **Install Weaviate Client**: `!pip install weaviate-client` installs the Weaviate client library for interacting with the Weaviate database.\n",
        "\n",
        "- **Install LangChain**: `!pip install langchain` installs the core LangChain library, which provides tools for building applications with language models.\n",
        "\n",
        "- **Install LangChain Community**: `!pip install langchain-community` installs additional third-party integrations for LangChain.\n",
        "\n",
        "- **Install PyPDF**: `!pip install pypdf` installs the PyPDF library for reading and manipulating PDF files.\n",
        "\n",
        "- **Install LangChain Groq**: `!pip install langchain-groq` installs the Groq integration for LangChain, enabling specific functionalities related to Groq.\n",
        "\n",
        "- **Install YouTube Transcript API**: `!pip install youtube_transcript_api` installs a library to retrieve transcripts from YouTube videos.\n",
        "\n",
        "- **Install PyPDF2**: `!pip install PYPDF2` installs another library for working with PDF files, allowing for reading and writing PDF documents.\n",
        "\n",
        "- **Install Ollama**: `!pip install ollama` installs the Ollama library, which may be used for specific functionalities in your project."
      ],
      "metadata": {
        "id": "BhWUuvEwLANd"
      }
    },
    {
      "cell_type": "code",
      "execution_count": null,
      "metadata": {
        "id": "u3RFuK_ecpfk"
      },
      "outputs": [],
      "source": [
        "# !pip install weaviate-client\n",
        "# !pip install langchain\n",
        "# !pip install langchain-community\n",
        "# !pip install pypdf\n",
        "# !pip install langchain-groq\n",
        "# !pip install youtube_transcript_api\n",
        "# !pip install PYPDF2\n",
        "# !pip install ollama"
      ]
    },
    {
      "cell_type": "markdown",
      "source": [
        "## Importing the libraries"
      ],
      "metadata": {
        "id": "bUmBroRWLEmk"
      }
    },
    {
      "cell_type": "code",
      "source": [
        "# import ollama\n",
        "\n",
        "# # Specify the server URL and port\n",
        "# server_url = \"http://localhost:11434\"  # Change to your desired port if needed\n",
        "\n",
        "# # Generate a response using the llama3:latest model\n",
        "# response = ollama.generate(model='llama3:latest', prompt='Explain quantum computing.', base_url=server_url)\n",
        "\n",
        "# # Print the response\n",
        "# print(response['response'])"
      ],
      "metadata": {
        "id": "UlWciW3IMHwe"
      },
      "execution_count": null,
      "outputs": []
    },
    {
      "cell_type": "code",
      "source": [
        "import os\n",
        "import re\n",
        "import weaviate\n",
        "\n",
        "# To access the API keys\n",
        "from google.colab import userdata\n",
        "from rich import print\n",
        "\n",
        "# Large language model\n",
        "from langchain_groq import ChatGroq\n",
        "from langchain import HuggingFacePipeline\n",
        "\n",
        "# For performing operaitons on the vector database\n",
        "from langchain.retrievers.weaviate_hybrid_search import WeaviateHybridSearchRetriever\n",
        "\n",
        "# For reading the data from the source and creating chunks\n",
        "from youtube_transcript_api import YouTubeTranscriptApi\n",
        "from PyPDF2 import PdfReader\n",
        "from langchain.document_loaders import PyPDFLoader\n",
        "from langchain.text_splitter import RecursiveCharacterTextSplitter\n",
        "\n",
        "print(\"Everyting Imported successfully\")"
      ],
      "metadata": {
        "colab": {
          "base_uri": "https://localhost:8080/",
          "height": 34
        },
        "id": "gHa3M4vsc3pt",
        "outputId": "77a65076-f89f-4dd1-fbd2-0dffbf00662c"
      },
      "execution_count": null,
      "outputs": [
        {
          "output_type": "display_data",
          "data": {
            "text/plain": [
              "Everyting Imported successfully\n"
            ],
            "text/html": [
              "<pre style=\"white-space:pre;overflow-x:auto;line-height:normal;font-family:Menlo,'DejaVu Sans Mono',consolas,'Courier New',monospace\">Everyting Imported successfully\n",
              "</pre>\n"
            ]
          },
          "metadata": {}
        }
      ]
    },
    {
      "cell_type": "markdown",
      "source": [
        "## Loading the embedding model, Large language model"
      ],
      "metadata": {
        "id": "-DKz0o22LQzC"
      }
    },
    {
      "cell_type": "code",
      "source": [
        "# Huggingface embedding model\n",
        "embdding_model = \"HuggingFaceH4/zephyr-7b-beta\"\n",
        "\n",
        "# LLM\n",
        "model = ChatGroq(model=\"llama3-8b-8192\",api_key = userdata.get('GROQ_API_KEY'))\n",
        "\n",
        "text_splitter = RecursiveCharacterTextSplitter(\n",
        "    chunk_size=4000,\n",
        "    chunk_overlap=200,\n",
        "    separators=[\"\\n\\n\", \"\\n\", \" \", \"\"]\n",
        ")"
      ],
      "metadata": {
        "id": "BJqIJqHPgjI5"
      },
      "execution_count": null,
      "outputs": []
    },
    {
      "cell_type": "markdown",
      "source": [
        "## Defining the youtube video transcript retriever"
      ],
      "metadata": {
        "id": "q9VuAn7sQ9SW"
      }
    },
    {
      "cell_type": "code",
      "source": [
        "# Function to extract the video ID from the YouTube URL\n",
        "def get_youtube_id(url):\n",
        "\n",
        "    regex = (\n",
        "        r'(https?://)?(www\\.)?(youtube|youtu|youtube-nocookie)\\.(com|be)/(watch\\?v=|embed/|v/|.+\\?v=)?([^&=%\\?]{11})')\n",
        "    match = re.match(regex, url)\n",
        "    return match.group(6) if match else None\n",
        "\n",
        "def get_transcript(youtube_url):\n",
        "\n",
        "  # Calling function to get youtube id and then corresponding transcript\n",
        "  result = YouTubeTranscriptApi.get_transcript(get_youtube_id(youtube_url))\n",
        "  yt_captions = \"\"\n",
        "  for item in iter(result):\n",
        "    yt_captions = yt_captions + item['text'] + \"\"\n",
        "\n",
        "  return yt_captions"
      ],
      "metadata": {
        "id": "yuI__CySzPYk"
      },
      "execution_count": null,
      "outputs": []
    },
    {
      "cell_type": "code",
      "source": [
        "print(get_transcript(\"https://www.youtube.com/watch?v=H_cqBjDVinw\"))"
      ],
      "metadata": {
        "colab": {
          "base_uri": "https://localhost:8080/",
          "height": 382
        },
        "id": "RvCY4f7rRHO1",
        "outputId": "e33fae61-52b8-4ff7-e157-a397362ca2e7"
      },
      "execution_count": null,
      "outputs": [
        {
          "output_type": "display_data",
          "data": {
            "text/plain": [
              "from the beginning olama was designed tobe the Cornerstone for applications thatneed AI it makes running AI models \n",
              "onyour local machines super easy and youdon't have to be an ml or AI expert toadd amazing functionality to your \n",
              "appyou can interact with it directly withthe amazing text UI or you can use oneof dozens maybe even hundreds of \n",
              "othertools that leverage AMA but sometimes toget those tools to work you need tomodify how the AMA server runs \n",
              "perhapsyou need to set the IP address it'sbound to or allow different web Originspossibly you want to disable the \n",
              "serverpruning incomplete models because yournetwork connection is crazy slow or youjust have to set a proxy to \n",
              "achieve thisyou set an environment variable andthere are numerous problems with doingthat probably the biggest \n",
              "issue is thatmost people know how to set environmentvariables and they do it wrong as far asthe olama server is \n",
              "concerned you don'twant to set the environment variable foryour shell you have to set it for theAMA server and the \n",
              "server isn't run fromyour default shell so on systemd Linuxdros this is pretty straightforward yourun system CTL \n",
              "edit. service and in theeditor add service and then environmentequals and then whatever you want to setAMA host \n",
              "equals \u001b[1;92m0.0.0.0\u001b[0m for example saveexit and a Reload system D and olamabefore you would create a config fileand \n",
              "manually add the environmentvariable so this is a bit easier now buton Mac the recommendation used to be tostop the\n",
              "olama server process from themenu bar and then in a new terminal AMAhost IP address and then olama serve andnow you\n",
              "had to ensure that your terminalwas always running and your log in/ logswouldn't be there but instead would bein \n",
              "the terminal where olama serve isrunning this is super awkward wellthankfully the process is a bitdifferent now \n",
              "again if you just set AMAhost in your profile AMA serve won't seeit but you can just run launch CTL setEnV host IP \n",
              "address and restartand now olama serve will see that if youneed to change that host run that setend command again \n",
              "and restart AMA thebenefit here is that updates are updatedas normal your logs appear inama logsyou don't have to \n",
              "ensure the terminal isopen running your AMA serve command it'sreally super useful I hope you foundthis interesting \n",
              "and to get more tipslike this like And subscribe if you haveany other questions ask them in thecomments below \n",
              "thanks so much forwatching\u001b[1m[\u001b[0mMusic\u001b[1m]\u001b[0m\u001b[1m[\u001b[0mMusic\u001b[1m]\u001b[0mgoodbye\n"
            ],
            "text/html": [
              "<pre style=\"white-space:pre;overflow-x:auto;line-height:normal;font-family:Menlo,'DejaVu Sans Mono',consolas,'Courier New',monospace\">from the beginning olama was designed tobe the Cornerstone for applications thatneed AI it makes running AI models \n",
              "onyour local machines super easy and youdon't have to be an ml or AI expert toadd amazing functionality to your \n",
              "appyou can interact with it directly withthe amazing text UI or you can use oneof dozens maybe even hundreds of \n",
              "othertools that leverage AMA but sometimes toget those tools to work you need tomodify how the AMA server runs \n",
              "perhapsyou need to set the IP address it'sbound to or allow different web Originspossibly you want to disable the \n",
              "serverpruning incomplete models because yournetwork connection is crazy slow or youjust have to set a proxy to \n",
              "achieve thisyou set an environment variable andthere are numerous problems with doingthat probably the biggest \n",
              "issue is thatmost people know how to set environmentvariables and they do it wrong as far asthe olama server is \n",
              "concerned you don'twant to set the environment variable foryour shell you have to set it for theAMA server and the \n",
              "server isn't run fromyour default shell so on systemd Linuxdros this is pretty straightforward yourun system CTL \n",
              "edit. service and in theeditor add service and then environmentequals and then whatever you want to setAMA host \n",
              "equals <span style=\"color: #00ff00; text-decoration-color: #00ff00; font-weight: bold\">0.0.0.0</span> for example saveexit and a Reload system D and olamabefore you would create a config fileand \n",
              "manually add the environmentvariable so this is a bit easier now buton Mac the recommendation used to be tostop the\n",
              "olama server process from themenu bar and then in a new terminal AMAhost IP address and then olama serve andnow you\n",
              "had to ensure that your terminalwas always running and your log in/ logswouldn't be there but instead would bein \n",
              "the terminal where olama serve isrunning this is super awkward wellthankfully the process is a bitdifferent now \n",
              "again if you just set AMAhost in your profile AMA serve won't seeit but you can just run launch CTL setEnV host IP \n",
              "address and restartand now olama serve will see that if youneed to change that host run that setend command again \n",
              "and restart AMA thebenefit here is that updates are updatedas normal your logs appear inama logsyou don't have to \n",
              "ensure the terminal isopen running your AMA serve command it'sreally super useful I hope you foundthis interesting \n",
              "and to get more tipslike this like And subscribe if you haveany other questions ask them in thecomments below \n",
              "thanks so much forwatching<span style=\"font-weight: bold\">[</span>Music<span style=\"font-weight: bold\">][</span>Music<span style=\"font-weight: bold\">]</span>goodbye\n",
              "</pre>\n"
            ]
          },
          "metadata": {}
        }
      ]
    },
    {
      "cell_type": "code",
      "source": [
        "# Path to the PDF file\n",
        "path = \"/content/Yuvraj_Singh.pdf\"\n",
        "\n",
        "def process_pdf(file_path,text_splitter,retriever):\n",
        "\n",
        "  # Initialize the PDF loader\n",
        "  loader = PyPDFLoader(file_path)\n",
        "\n",
        "  # Load the PDF data and skip the first 7 pages and the last 6 pages\n",
        "  all_pages = loader.load()\n",
        "\n",
        "  # Extract the required pages, ignoring the first 7 and last 6\n",
        "  filtered_pages = all_pages[7:-6]\n",
        "\n",
        "  # Combine the filtered pages into a single string if needed\n",
        "  content = \" \".join([page.page_content for page in all_pages])\n",
        "\n",
        "  # Creating the chunks and storing them in the vector database\n",
        "  docs = text_splitter.create_documents(content.split(\"\\n\\n\"))\n",
        "\n",
        "  # Adding the docs to retriever\n",
        "  retriever.add_documents(docs)\n"
      ],
      "metadata": {
        "id": "MPCZEIz5S97Y",
        "colab": {
          "base_uri": "https://localhost:8080/",
          "height": 912
        },
        "outputId": "e9037bee-f24c-4bfb-b772-03f87ed25050"
      },
      "execution_count": null,
      "outputs": [
        {
          "output_type": "display_data",
          "data": {
            "text/plain": [
              "Yuvraj Singh +\u001b[1;36m91\u001b[0m-\u001b[1;36m6239305919\u001b[0m\n",
              "Roll No:21BCS6343 ys2002github@gmail.com\n",
              "\u001b[1;35mB.TECH\u001b[0m\u001b[1m(\u001b[0mHons\u001b[1m)\u001b[0m 21BCS6343@cuchd.in\n",
              "Artificial Intelligence and Machine learning Github/yuvraaj2002\n",
              "Chandigarh University,Gharuan Linkedin/Yuvraj Singh\n",
              "Education\n",
              "Degree/Certificate Institute/Board CGPA/Percentage Year\n",
              "B.Tech. \u001b[1m(\u001b[0mCSE\u001b[1m)\u001b[0m Chandigarh University, Gharuan \u001b[1;36m8.02\u001b[0m Jul \u001b[1;36m2021\u001b[0m- Jul \u001b[1;36m2025\u001b[0m\n",
              "Senior Secondary CBSE Board \u001b[1;36m91.2\u001b[0m% Feb \u001b[1;36m2021\u001b[0m\n",
              "Experience\n",
              "•Samsung research and development Jan \u001b[1;36m2024\u001b[0m - Present\n",
              "Prism Intern Remote\n",
              "–Innovated a personal document detection and masking algorithm, enhancing identification accuracy by \u001b[1;36m35\u001b[0m%, en-\n",
              "suring privacy regulation compliance and fortifying data security measures across diverse document types.\n",
              "•Wictronix Jun \u001b[1;36m2023\u001b[0m - Aug \u001b[1;36m2023\u001b[0m\n",
              "AIML Developer Intern Remote\n",
              "–Implemented YOLO V8 for Indian road traffic management, achieving a \u001b[1;36m8\u001b[0m% improvement in vehicle number plate\n",
              "detection accuracy, thus increasing fine collections by \u001b[1;36m25\u001b[0m%.\n",
              "Projects\n",
              "•InterviewX \u001b[1m(\u001b[0mAI Tutor\u001b[1m)\u001b[0m\n",
              "Developed an AI tutor app using GenAI, computer vision, NLP, and ML to boost job market success rates by \u001b[1;36m38\u001b[0m%. Link.\n",
              "–Engineered an AI-driven interview preparation application leveraging generative AI, large language models \u001b[1m(\u001b[0mLLM\u001b[1m)\u001b[0m,\n",
              "and advanced machine learning models. Key functionalities include fake job posting detection \u001b[1m(\u001b[0mF1 score: \u001b[1;36m0.86\u001b[0m\u001b[1m)\u001b[0m,\n",
              "resume-content similarity analysis, posture evaluation through video analysis, text summarization module, and\n",
              "Omnichat retrieval-augmented generation with PDF and YouTube videos.\n",
              "–Introduced personalized interview question generation and comprehensive posture analysis feedback, leveraging a\n",
              "high MAP value of \u001b[1;36m0.916\u001b[0m; optimized resumes with detailed preparation, leading to a \u001b[1;36m10\u001b[0m% improvement in interview\n",
              "success rates.\n",
              "–Tools&technologiesused : Python, TensorFlow, Pinecone, Huggingface, Langchain, scikit-learn, Optuna, OpenCV,\n",
              "Pandas, Numpy, NLTK, Plotly, PyPDF2, beautifulsoup4.\n",
              "•HomeQuest.AI\n",
              "Innovated a personalized home query application using GenAI and advanced ML. Link.\n",
              "–Designed and deployed an AI-driven Home Finder app with advanced modules for price prediction, loan eligibility\n",
              "\u001b[1m(\u001b[0m\u001b[1;36m0.92\u001b[0m F1 score\u001b[1m)\u001b[0m, property recommendations, and data visualizations, enhancing search efficiency and user satisfac-\n",
              "tion.\n",
              "–Serviced a sophisticated Regression Analysis module, refining coefficients interpretation; increased R ²score from\n",
              "\u001b[1;36m0.815\u001b[0m to \u001b[1;36m0.896\u001b[0m, notably enhancing property pricing dynamics and reducing pricing errors by \u001b[1;36m25\u001b[0m%.\n",
              "–Tools & technologies used : Python, Tensorflow, NLTK, TensorFlow-Text, Pandas, Numpy, scikit-learn, Plotly.\n",
              "Research Experience\n",
              "•Impact and Performance Analysis of Diverse Activation Functions for Classification Problems\n",
              "•Exploring Frequency-Based and Predictive Word Embedding Models: A Comprehensive Evaluation\n",
              "Technical Skills\n",
              "•Programming: Python,C++,SQL\n",
              "•Tools & OS: Git, Jupyter Notebook,Google Colab, Windows\n",
              "•Computer science fundamentals: DBMS, Data structures and algorithms,Operating system, Computer networks\n",
              "•Libraries/Frameworks: Pandas, Numpy, scikit-learn, Tensorflow, OpenCV, Selenium, Langchain, PineCone,\n",
              "Ultralytics, HyperOPT, Streamlit, Plotly\n",
              "Achievements\n",
              "•Led a team of \u001b[1;36m4\u001b[0m to 1st place at IIT Mandi Frosthack demonstrating leadership, communication, and teamwork.\n",
              "•Published Deep Learning Research withIEEE Bangalore , highlighting drive for innovation and analytical thinking.\n",
              "•Led online workshops as a Microsoft Learn Student Ambassador teaching \u001b[1;36m250\u001b[0m+ students globally with \u001b[1;36m90\u001b[0m% \n",
              "satisfaction.\n",
              "•\u001b[1;36m3\u001b[0m time award-winning Hashnode blogger with over \u001b[1;36m2400\u001b[0m+ unique user watches.\n",
              "•Led and mentored a team of \u001b[1;36m8\u001b[0m interns at Wictronix recognized as the best employee of the month.\n"
            ],
            "text/html": [
              "<pre style=\"white-space:pre;overflow-x:auto;line-height:normal;font-family:Menlo,'DejaVu Sans Mono',consolas,'Courier New',monospace\">Yuvraj Singh +<span style=\"color: #008080; text-decoration-color: #008080; font-weight: bold\">91</span>-<span style=\"color: #008080; text-decoration-color: #008080; font-weight: bold\">6239305919</span>\n",
              "Roll No:21BCS6343 ys2002github@gmail.com\n",
              "<span style=\"color: #800080; text-decoration-color: #800080; font-weight: bold\">B.TECH</span><span style=\"font-weight: bold\">(</span>Hons<span style=\"font-weight: bold\">)</span> 21BCS6343@cuchd.in\n",
              "Artificial Intelligence and Machine learning Github/yuvraaj2002\n",
              "Chandigarh University,Gharuan Linkedin/Yuvraj Singh\n",
              "Education\n",
              "Degree/Certificate Institute/Board CGPA/Percentage Year\n",
              "B.Tech. <span style=\"font-weight: bold\">(</span>CSE<span style=\"font-weight: bold\">)</span> Chandigarh University, Gharuan <span style=\"color: #008080; text-decoration-color: #008080; font-weight: bold\">8.02</span> Jul <span style=\"color: #008080; text-decoration-color: #008080; font-weight: bold\">2021</span>- Jul <span style=\"color: #008080; text-decoration-color: #008080; font-weight: bold\">2025</span>\n",
              "Senior Secondary CBSE Board <span style=\"color: #008080; text-decoration-color: #008080; font-weight: bold\">91.2</span>% Feb <span style=\"color: #008080; text-decoration-color: #008080; font-weight: bold\">2021</span>\n",
              "Experience\n",
              "•Samsung research and development Jan <span style=\"color: #008080; text-decoration-color: #008080; font-weight: bold\">2024</span> - Present\n",
              "Prism Intern Remote\n",
              "–Innovated a personal document detection and masking algorithm, enhancing identification accuracy by <span style=\"color: #008080; text-decoration-color: #008080; font-weight: bold\">35</span>%, en-\n",
              "suring privacy regulation compliance and fortifying data security measures across diverse document types.\n",
              "•Wictronix Jun <span style=\"color: #008080; text-decoration-color: #008080; font-weight: bold\">2023</span> - Aug <span style=\"color: #008080; text-decoration-color: #008080; font-weight: bold\">2023</span>\n",
              "AIML Developer Intern Remote\n",
              "–Implemented YOLO V8 for Indian road traffic management, achieving a <span style=\"color: #008080; text-decoration-color: #008080; font-weight: bold\">8</span>% improvement in vehicle number plate\n",
              "detection accuracy, thus increasing fine collections by <span style=\"color: #008080; text-decoration-color: #008080; font-weight: bold\">25</span>%.\n",
              "Projects\n",
              "•InterviewX <span style=\"font-weight: bold\">(</span>AI Tutor<span style=\"font-weight: bold\">)</span>\n",
              "Developed an AI tutor app using GenAI, computer vision, NLP, and ML to boost job market success rates by <span style=\"color: #008080; text-decoration-color: #008080; font-weight: bold\">38</span>%. Link.\n",
              "–Engineered an AI-driven interview preparation application leveraging generative AI, large language models <span style=\"font-weight: bold\">(</span>LLM<span style=\"font-weight: bold\">)</span>,\n",
              "and advanced machine learning models. Key functionalities include fake job posting detection <span style=\"font-weight: bold\">(</span>F1 score: <span style=\"color: #008080; text-decoration-color: #008080; font-weight: bold\">0.86</span><span style=\"font-weight: bold\">)</span>,\n",
              "resume-content similarity analysis, posture evaluation through video analysis, text summarization module, and\n",
              "Omnichat retrieval-augmented generation with PDF and YouTube videos.\n",
              "–Introduced personalized interview question generation and comprehensive posture analysis feedback, leveraging a\n",
              "high MAP value of <span style=\"color: #008080; text-decoration-color: #008080; font-weight: bold\">0.916</span>; optimized resumes with detailed preparation, leading to a <span style=\"color: #008080; text-decoration-color: #008080; font-weight: bold\">10</span>% improvement in interview\n",
              "success rates.\n",
              "–Tools&amp;technologiesused : Python, TensorFlow, Pinecone, Huggingface, Langchain, scikit-learn, Optuna, OpenCV,\n",
              "Pandas, Numpy, NLTK, Plotly, PyPDF2, beautifulsoup4.\n",
              "•HomeQuest.AI\n",
              "Innovated a personalized home query application using GenAI and advanced ML. Link.\n",
              "–Designed and deployed an AI-driven Home Finder app with advanced modules for price prediction, loan eligibility\n",
              "<span style=\"font-weight: bold\">(</span><span style=\"color: #008080; text-decoration-color: #008080; font-weight: bold\">0.92</span> F1 score<span style=\"font-weight: bold\">)</span>, property recommendations, and data visualizations, enhancing search efficiency and user satisfac-\n",
              "tion.\n",
              "–Serviced a sophisticated Regression Analysis module, refining coefficients interpretation; increased R ²score from\n",
              "<span style=\"color: #008080; text-decoration-color: #008080; font-weight: bold\">0.815</span> to <span style=\"color: #008080; text-decoration-color: #008080; font-weight: bold\">0.896</span>, notably enhancing property pricing dynamics and reducing pricing errors by <span style=\"color: #008080; text-decoration-color: #008080; font-weight: bold\">25</span>%.\n",
              "–Tools &amp; technologies used : Python, Tensorflow, NLTK, TensorFlow-Text, Pandas, Numpy, scikit-learn, Plotly.\n",
              "Research Experience\n",
              "•Impact and Performance Analysis of Diverse Activation Functions for Classification Problems\n",
              "•Exploring Frequency-Based and Predictive Word Embedding Models: A Comprehensive Evaluation\n",
              "Technical Skills\n",
              "•Programming: Python,C++,SQL\n",
              "•Tools &amp; OS: Git, Jupyter Notebook,Google Colab, Windows\n",
              "•Computer science fundamentals: DBMS, Data structures and algorithms,Operating system, Computer networks\n",
              "•Libraries/Frameworks: Pandas, Numpy, scikit-learn, Tensorflow, OpenCV, Selenium, Langchain, PineCone,\n",
              "Ultralytics, HyperOPT, Streamlit, Plotly\n",
              "Achievements\n",
              "•Led a team of <span style=\"color: #008080; text-decoration-color: #008080; font-weight: bold\">4</span> to 1st place at IIT Mandi Frosthack demonstrating leadership, communication, and teamwork.\n",
              "•Published Deep Learning Research withIEEE Bangalore , highlighting drive for innovation and analytical thinking.\n",
              "•Led online workshops as a Microsoft Learn Student Ambassador teaching <span style=\"color: #008080; text-decoration-color: #008080; font-weight: bold\">250</span>+ students globally with <span style=\"color: #008080; text-decoration-color: #008080; font-weight: bold\">90</span>% \n",
              "satisfaction.\n",
              "•<span style=\"color: #008080; text-decoration-color: #008080; font-weight: bold\">3</span> time award-winning Hashnode blogger with over <span style=\"color: #008080; text-decoration-color: #008080; font-weight: bold\">2400</span>+ unique user watches.\n",
              "•Led and mentored a team of <span style=\"color: #008080; text-decoration-color: #008080; font-weight: bold\">8</span> interns at Wictronix recognized as the best employee of the month.\n",
              "</pre>\n"
            ]
          },
          "metadata": {}
        }
      ]
    },
    {
      "cell_type": "markdown",
      "source": [
        "## Setting up the weviate vector database"
      ],
      "metadata": {
        "id": "AE8xn-jxS1JE"
      }
    },
    {
      "cell_type": "code",
      "source": [
        "# Define the Weaviate URL\n",
        "WEAVIATE_URL = \"https://mraljvvcqhqzgnfv0hmsa.c0.us-west3.gcp.weaviate.cloud\"\n",
        "\n",
        "# Initialize the Weaviate client using version 4\n",
        "client = weaviate.WeaviateClient(\n",
        "    url=WEAVIATE_URL,\n",
        "    auth_client_secret=weaviate.AuthApiKey(userdata.get('WEAVIATE_API_KEY')),\n",
        "    additional_headers={\n",
        "        \"X-HuggingFace-Api-Key\": userdata.get('HF_TOKEN')\n",
        "    },\n",
        ")\n",
        "\n",
        "def setup_db(client):\n",
        "    # Deleting the existing schema if it exists\n",
        "    try:\n",
        "        client.schema.delete_class(\"RAG\")\n",
        "    except Exception as e:\n",
        "        print(f\"Error deleting class: {e}\")\n",
        "\n",
        "    # Defining the schema\n",
        "    schema = {\n",
        "        \"classes\": [\n",
        "            {\n",
        "                \"class\": \"RAG\",\n",
        "                \"description\": \"Documents for RAG\",\n",
        "                \"vectorizer\": \"text2vec-huggingface\",\n",
        "                \"moduleConfig\": {\n",
        "                    \"text2vec-huggingface\": {\n",
        "                        \"model\": \"sentence-transformers/all-MiniLM-L6-v2\",\n",
        "                        \"type\": \"text\"\n",
        "                    }\n",
        "                },\n",
        "                \"properties\": [\n",
        "                    {\n",
        "                        \"dataType\": [\"text\"],\n",
        "                        \"description\": \"The content of the paragraph\",\n",
        "                        \"moduleConfig\": {\n",
        "                            \"text2vec-huggingface\": {\n",
        "                                \"skip\": False,\n",
        "                                \"vectorizePropertyName\": False,\n",
        "                            }\n",
        "                        },\n",
        "                        \"name\": \"content\",\n",
        "                    },\n",
        "                ],\n",
        "            },\n",
        "        ]\n",
        "    }\n",
        "\n",
        "    # Creating the schema\n",
        "    try:\n",
        "        client.schema.create(schema)\n",
        "    except Exception as e:\n",
        "        print(f\"Error creating schema: {e}\")\n",
        "\n",
        "    # Defining the retriever\n",
        "    retriever = WeaviateHybridSearchRetriever(\n",
        "        alpha=0.5,  # defaults to 0.5, which is equal weighting between keyword and semantic search\n",
        "        client=client,  # keyword arguments to pass to the Weaviate client\n",
        "        index_name=\"RAG\",  # The name of the index to use\n",
        "        text_key=\"content\",  # The name of the text key to use\n",
        "        attributes=[],  # The attributes to return in the results\n",
        "        create_schema_if_missing=True,\n",
        "    )\n",
        "\n",
        "    return retriever\n",
        "\n",
        "\n",
        "%%time\n",
        "retriever = setup_db(client)"
      ],
      "metadata": {
        "id": "1fuJefIU6kWy",
        "colab": {
          "base_uri": "https://localhost:8080/",
          "height": 211
        },
        "outputId": "d0840e0c-1996-42c5-8377-d9b798e719ba"
      },
      "execution_count": null,
      "outputs": [
        {
          "output_type": "error",
          "ename": "TypeError",
          "evalue": "WeaviateClient.__init__() got an unexpected keyword argument 'url'",
          "traceback": [
            "\u001b[0;31m---------------------------------------------------------------------------\u001b[0m",
            "\u001b[0;31mTypeError\u001b[0m                                 Traceback (most recent call last)",
            "\u001b[0;32m<ipython-input-19-babff43b91a2>\u001b[0m in \u001b[0;36m<cell line: 5>\u001b[0;34m()\u001b[0m\n\u001b[1;32m      3\u001b[0m \u001b[0;34m\u001b[0m\u001b[0m\n\u001b[1;32m      4\u001b[0m \u001b[0;31m# Initialize the Weaviate client using version 4\u001b[0m\u001b[0;34m\u001b[0m\u001b[0;34m\u001b[0m\u001b[0m\n\u001b[0;32m----> 5\u001b[0;31m client = weaviate.WeaviateClient(\n\u001b[0m\u001b[1;32m      6\u001b[0m     \u001b[0murl\u001b[0m\u001b[0;34m=\u001b[0m\u001b[0mWEAVIATE_URL\u001b[0m\u001b[0;34m,\u001b[0m\u001b[0;34m\u001b[0m\u001b[0;34m\u001b[0m\u001b[0m\n\u001b[1;32m      7\u001b[0m     \u001b[0mauth_client_secret\u001b[0m\u001b[0;34m=\u001b[0m\u001b[0mweaviate\u001b[0m\u001b[0;34m.\u001b[0m\u001b[0mAuthApiKey\u001b[0m\u001b[0;34m(\u001b[0m\u001b[0muserdata\u001b[0m\u001b[0;34m.\u001b[0m\u001b[0mget\u001b[0m\u001b[0;34m(\u001b[0m\u001b[0;34m'WEAVIATE_API_KEY'\u001b[0m\u001b[0;34m)\u001b[0m\u001b[0;34m)\u001b[0m\u001b[0;34m,\u001b[0m\u001b[0;34m\u001b[0m\u001b[0;34m\u001b[0m\u001b[0m\n",
            "\u001b[0;31mTypeError\u001b[0m: WeaviateClient.__init__() got an unexpected keyword argument 'url'"
          ]
        }
      ]
    },
    {
      "cell_type": "code",
      "source": [
        "count = client.query.aggregate(\"RAG\").with_meta_count().do()\n",
        "print(f\"Number of objects in the index: {count['data']['Aggregate']['RAG'][0]['meta']['count']}\")"
      ],
      "metadata": {
        "colab": {
          "base_uri": "https://localhost:8080/",
          "height": 34
        },
        "id": "FXOTsQbZ6Mlx",
        "outputId": "5d6816b4-7dfd-4cf1-a716-7a5d8c025bf0"
      },
      "execution_count": null,
      "outputs": [
        {
          "output_type": "display_data",
          "data": {
            "text/plain": [
              "Number of objects in the index: \u001b[1;36m0\u001b[0m\n"
            ],
            "text/html": [
              "<pre style=\"white-space:pre;overflow-x:auto;line-height:normal;font-family:Menlo,'DejaVu Sans Mono',consolas,'Courier New',monospace\">Number of objects in the index: <span style=\"color: #008080; text-decoration-color: #008080; font-weight: bold\">0</span>\n",
              "</pre>\n"
            ]
          },
          "metadata": {}
        }
      ]
    },
    {
      "cell_type": "markdown",
      "source": [
        "## Recursive text splitter for creating chunks"
      ],
      "metadata": {
        "id": "4zFgxim-Uhgp"
      }
    },
    {
      "cell_type": "code",
      "source": [
        "%%time\n",
        "print(\"📌Here is the retrieved doc\")\n",
        "print(\"____________________________\")\n",
        "print(docs[0])\n",
        "print(\"____________________________\")"
      ],
      "metadata": {
        "id": "_7dYBK_07RrW",
        "colab": {
          "base_uri": "https://localhost:8080/",
          "height": 103
        },
        "outputId": "8bd0e286-40b6-4dc8-cdb8-cb905d3fdf57"
      },
      "execution_count": null,
      "outputs": [
        {
          "output_type": "display_data",
          "data": {
            "text/plain": [
              "📌Here is the retrieved doc\n"
            ],
            "text/html": [
              "<pre style=\"white-space:pre;overflow-x:auto;line-height:normal;font-family:Menlo,'DejaVu Sans Mono',consolas,'Courier New',monospace\">📌Here is the retrieved doc\n",
              "</pre>\n"
            ]
          },
          "metadata": {}
        },
        {
          "output_type": "display_data",
          "data": {
            "text/plain": [
              "____________________________\n"
            ],
            "text/html": [
              "<pre style=\"white-space:pre;overflow-x:auto;line-height:normal;font-family:Menlo,'DejaVu Sans Mono',consolas,'Courier New',monospace\">____________________________\n",
              "</pre>\n"
            ]
          },
          "metadata": {}
        },
        {
          "output_type": "display_data",
          "data": {
            "text/plain": [
              "____________________________\n"
            ],
            "text/html": [
              "<pre style=\"white-space:pre;overflow-x:auto;line-height:normal;font-family:Menlo,'DejaVu Sans Mono',consolas,'Courier New',monospace\">____________________________\n",
              "</pre>\n"
            ]
          },
          "metadata": {}
        },
        {
          "output_type": "stream",
          "name": "stdout",
          "text": [
            "CPU times: user 8.68 ms, sys: 971 µs, total: 9.66 ms\n",
            "Wall time: 10.4 ms\n"
          ]
        }
      ]
    },
    {
      "cell_type": "code",
      "source": [],
      "metadata": {
        "colab": {
          "base_uri": "https://localhost:8080/"
        },
        "id": "7KQ6e1HWag0E",
        "outputId": "6932ab2d-1511-438f-fbd3-dfb93831e1a1"
      },
      "execution_count": null,
      "outputs": [
        {
          "output_type": "execute_result",
          "data": {
            "text/plain": [
              "Document(page_content='Yuvraj Singh +91-6239305919\\nRoll No:21BCS6343 ys2002github@gmail.com\\nB.TECH(Hons) 21BCS6343@cuchd.in\\nArtificial Intelligence and Machine learning Github/yuvraaj2002\\nChandigarh University,Gharuan Linkedin/Yuvraj Singh\\nEducation\\nDegree/Certificate Institute/Board CGPA/Percentage Year\\nB.Tech. (CSE) Chandigarh University, Gharuan 8.02 Jul 2021- Jul 2025\\nSenior Secondary CBSE Board 91.2% Feb 2021\\nExperience\\n•Samsung research and development Jan 2024 - Present\\nPrism Intern Remote\\n–Innovated a personal document detection and masking algorithm, enhancing identification accuracy by 35%, en-\\nsuring privacy regulation compliance and fortifying data security measures across diverse document types.\\n•Wictronix Jun 2023 - Aug 2023\\nAIML Developer Intern Remote\\n–Implemented YOLO V8 for Indian road traffic management, achieving a 8% improvement in vehicle number plate\\ndetection accuracy, thus increasing fine collections by 25%.\\nProjects\\n•InterviewX (AI Tutor)\\nDeveloped an AI tutor app using GenAI, computer vision, NLP, and ML to boost job market success rates by 38%. Link.\\n–Engineered an AI-driven interview preparation application leveraging generative AI, large language models (LLM),\\nand advanced machine learning models. Key functionalities include fake job posting detection (F1 score: 0.86),\\nresume-content similarity analysis, posture evaluation through video analysis, text summarization module, and\\nOmnichat retrieval-augmented generation with PDF and YouTube videos.\\n–Introduced personalized interview question generation and comprehensive posture analysis feedback, leveraging a\\nhigh MAP value of 0.916; optimized resumes with detailed preparation, leading to a 10% improvement in interview\\nsuccess rates.\\n–Tools&technologiesused : Python, TensorFlow, Pinecone, Huggingface, Langchain, scikit-learn, Optuna, OpenCV,\\nPandas, Numpy, NLTK, Plotly, PyPDF2, beautifulsoup4.\\n•HomeQuest.AI\\nInnovated a personalized home query application using GenAI and advanced ML. Link.\\n–Designed and deployed an AI-driven Home Finder app with advanced modules for price prediction, loan eligibility\\n(0.92 F1 score), property recommendations, and data visualizations, enhancing search efficiency and user satisfac-\\ntion.\\n–Serviced a sophisticated Regression Analysis module, refining coefficients interpretation; increased R ²score from\\n0.815 to 0.896, notably enhancing property pricing dynamics and reducing pricing errors by 25%.\\n–Tools & technologies used : Python, Tensorflow, NLTK, TensorFlow-Text, Pandas, Numpy, scikit-learn, Plotly.\\nResearch Experience\\n•Impact and Performance Analysis of Diverse Activation Functions for Classification Problems\\n•Exploring Frequency-Based and Predictive Word Embedding Models: A Comprehensive Evaluation\\nTechnical Skills\\n•Programming: Python,C++,SQL\\n•Tools & OS: Git, Jupyter Notebook,Google Colab, Windows\\n•Computer science fundamentals: DBMS, Data structures and algorithms,Operating system, Computer networks\\n•Libraries/Frameworks: Pandas, Numpy, scikit-learn, Tensorflow, OpenCV, Selenium, Langchain, PineCone,\\nUltralytics, HyperOPT, Streamlit, Plotly\\nAchievements\\n•Led a team of 4 to 1st place at IIT Mandi Frosthack demonstrating leadership, communication, and teamwork.\\n•Published Deep Learning Research withIEEE Bangalore , highlighting drive for innovation and analytical thinking.\\n•Led online workshops as a Microsoft Learn Student Ambassador teaching 250+ students globally with 90% satisfaction.\\n•3 time award-winning Hashnode blogger with over 2400+ unique user watches.\\n•Led and mentored a team of 8 interns at Wictronix recognized as the best employee of the month.')"
            ]
          },
          "metadata": {},
          "execution_count": 12
        }
      ]
    },
    {
      "cell_type": "markdown",
      "source": [
        "## RAG pipeline"
      ],
      "metadata": {
        "id": "Kwn522f5U5eq"
      }
    },
    {
      "cell_type": "code",
      "source": [
        "def rag_pipeline(query_text,retriever,model):\n",
        "\n",
        "  query_text = \"What are the differences between the radius and ulna\"\n",
        "\n",
        "  # Retrieving the most accurate documents using the hybrid search\n",
        "  vdb_context_text = retriever.invoke(query_text,score=True)[0].page_content\n",
        "\n",
        "  # Getting the response from the LLM based on query text and retrieved context data\n",
        "  response = model.invoke(f\"\"\"\n",
        "  To provide an accurate and informative answer to your medical query, I will need to review the specific query text '{query_text}'\n",
        "  and the context information '{vdb_context_text}' retrieved from the vector database.\"\"\")\n",
        "\n",
        "  return response.content\n",
        "\n",
        "query_text = input(\"Enter you query 🤔: \")\n",
        "print(rag_pipeline(query_text,retriever,model))"
      ],
      "metadata": {
        "id": "Aml3UrahKiSG",
        "colab": {
          "base_uri": "https://localhost:8080/"
        },
        "outputId": "b4f4404c-d64e-4189-f6ff-53cf554f3770"
      },
      "execution_count": 23,
      "outputs": [
        {
          "name": "stdout",
          "output_type": "stream",
          "text": [
            "Enter you query 🤔: WAL\n"
          ]
        }
      ]
    },
    {
      "cell_type": "code",
      "source": [
        "print(response.content)"
      ],
      "metadata": {
        "colab": {
          "base_uri": "https://localhost:8080/",
          "height": 257
        },
        "id": "PnY1fqqeIiNw",
        "outputId": "6a670ba2-9c2d-4801-b779-347661eba801"
      },
      "execution_count": null,
      "outputs": [
        {
          "output_type": "display_data",
          "data": {
            "text/plain": [
              "Based on the provided information, here is a concise and informative answer to the query \u001b[32m\"What are the differences \u001b[0m\n",
              "\u001b[32mbetween the radius and ulna\"\u001b[0m:\n",
              "\n",
              "The radius and ulna are the two bones of the forearm that form the elbow joint. The main differences between them \n",
              "are:\n",
              "\n",
              "* The radius is the shorter bone, while the ulna is the longer bone.\n",
              "* The radius is more curved and has a greater degree of flexibility than the ulna.\n",
              "* The radius has a lateral epicondyle, which is a bony prominence that serves as an attachment point for several \n",
              "muscles, including the extensor carpi radialis brevis and the supinator.\n",
              "* The ulna has a medial epicondyle, which is also a bony prominence that serves as an attachment point for several \n",
              "muscles, including the flexor carpi ulnaris and the common flexors.\n",
              "\n",
              "In summary, the radius and ulna are two distinct bones with different shapes, sizes, and functions that work \n",
              "together to form the elbow joint and enable various movements of the forearm.\n"
            ],
            "text/html": [
              "<pre style=\"white-space:pre;overflow-x:auto;line-height:normal;font-family:Menlo,'DejaVu Sans Mono',consolas,'Courier New',monospace\">Based on the provided information, here is a concise and informative answer to the query <span style=\"color: #008000; text-decoration-color: #008000\">\"What are the differences </span>\n",
              "<span style=\"color: #008000; text-decoration-color: #008000\">between the radius and ulna\"</span>:\n",
              "\n",
              "The radius and ulna are the two bones of the forearm that form the elbow joint. The main differences between them \n",
              "are:\n",
              "\n",
              "* The radius is the shorter bone, while the ulna is the longer bone.\n",
              "* The radius is more curved and has a greater degree of flexibility than the ulna.\n",
              "* The radius has a lateral epicondyle, which is a bony prominence that serves as an attachment point for several \n",
              "muscles, including the extensor carpi radialis brevis and the supinator.\n",
              "* The ulna has a medial epicondyle, which is also a bony prominence that serves as an attachment point for several \n",
              "muscles, including the flexor carpi ulnaris and the common flexors.\n",
              "\n",
              "In summary, the radius and ulna are two distinct bones with different shapes, sizes, and functions that work \n",
              "together to form the elbow joint and enable various movements of the forearm.\n",
              "</pre>\n"
            ]
          },
          "metadata": {}
        }
      ]
    }
  ]
}