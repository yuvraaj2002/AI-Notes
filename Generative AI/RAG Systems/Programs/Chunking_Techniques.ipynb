{
  "cells": [
    {
      "cell_type": "markdown",
      "id": "49537129-e798-4675-bda2-d50de5caf743",
      "metadata": {
        "id": "49537129-e798-4675-bda2-d50de5caf743"
      },
      "source": [
        "## Installing the Dependencies"
      ]
    },
    {
      "cell_type": "code",
      "execution_count": null,
      "id": "e0a11eaf-7538-49ad-bf64-c21a9d8a44db",
      "metadata": {
        "id": "e0a11eaf-7538-49ad-bf64-c21a9d8a44db"
      },
      "outputs": [],
      "source": [
        "# !pip install langchain\n",
        "# !pip install langchain-groq\n",
        "# !pip install \"langserve[all]\"\n",
        "# !pip install langchain_community[\"all\"]\n",
        "# !pip install chromadb\n",
        "# !pip install langchain-experimental"
      ]
    },
    {
      "cell_type": "code",
      "source": [
        "from rich import print\n",
        "import getpass\n",
        "import os\n",
        "from langchain.docstore.document import Document\n",
        "from langchain_community.chat_models import ChatOllama\n",
        "from langchain_community.vectorstores import Chroma\n",
        "from langchain_community import embeddings\n",
        "from langchain_core.runnables import RunnablePassthrough\n",
        "from langchain_groq import ChatGroq\n",
        "from langchain_core.output_parsers import StrOutputParser\n",
        "from langchain_core.prompts import ChatPromptTemplate\n",
        "from langchain.embeddings import HuggingFaceInferenceAPIEmbeddings\n",
        "from google.colab import userdata\n",
        "print(\"Everything Imported succesfully✅\")"
      ],
      "metadata": {
        "id": "Jn9lbtefK6ZB",
        "colab": {
          "base_uri": "https://localhost:8080/",
          "height": 36
        },
        "outputId": "af52707c-409d-4e2a-e0f8-00a811f0e566"
      },
      "id": "Jn9lbtefK6ZB",
      "execution_count": null,
      "outputs": [
        {
          "output_type": "display_data",
          "data": {
            "text/plain": [
              "Everything Imported succesfully✅\n"
            ],
            "text/html": [
              "<pre style=\"white-space:pre;overflow-x:auto;line-height:normal;font-family:Menlo,'DejaVu Sans Mono',consolas,'Courier New',monospace\">Everything Imported succesfully✅\n",
              "</pre>\n"
            ]
          },
          "metadata": {}
        }
      ]
    },
    {
      "cell_type": "code",
      "source": [
        "os.environ[\"LANGCHAIN_TRACING_V2\"] = \"true\"\n",
        "os.environ[\"LANGCHAIN_API_KEY\"] = getpass.getpass()\n",
        "os.environ[\"GROQ_API_KEY\"] = getpass.getpass()"
      ],
      "metadata": {
        "colab": {
          "base_uri": "https://localhost:8080/"
        },
        "id": "KobL-v1ELvCf",
        "outputId": "f5041744-136a-4d2c-ea6c-bc039ea98788"
      },
      "id": "KobL-v1ELvCf",
      "execution_count": null,
      "outputs": [
        {
          "name": "stdout",
          "output_type": "stream",
          "text": [
            "··········\n",
            "··········\n"
          ]
        }
      ]
    },
    {
      "cell_type": "markdown",
      "source": [
        "### Initializing the Model"
      ],
      "metadata": {
        "id": "-prMIeISkduS"
      },
      "id": "-prMIeISkduS"
    },
    {
      "cell_type": "code",
      "source": [
        "# Loading the LLM model\n",
        "model = ChatGroq(model=\"llama3-8b-8192\")\n",
        "\n",
        "# Embedding Model\n",
        "embedding_model = HuggingFaceInferenceAPIEmbeddings(api_key =userdata.get('HF_TOKEN'),model_name=\"BAAI/bge-base-en-v1.5\")"
      ],
      "metadata": {
        "id": "AKt1CGroL-Jc"
      },
      "id": "AKt1CGroL-Jc",
      "execution_count": null,
      "outputs": []
    },
    {
      "cell_type": "markdown",
      "source": [
        "### Defining the RAG"
      ],
      "metadata": {
        "id": "phwy5YGnkga6"
      },
      "id": "phwy5YGnkga6"
    },
    {
      "cell_type": "code",
      "source": [
        "# RAG\n",
        "def rag(chunks, collection_name,embedding_model):\n",
        "\n",
        "    # Defining the vector store\n",
        "    vectorstore = Chroma.from_documents(\n",
        "        documents=documents,\n",
        "        collection_name=collection_name,\n",
        "        embedding=embedding_model,\n",
        "    )\n",
        "    retriever = vectorstore.as_retriever()\n",
        "\n",
        "    # Defining the prompt template\n",
        "    prompt_template = \"\"\"Answer the question based only on the following context:\n",
        "    {context}\n",
        "    Question: {question}\n",
        "    \"\"\"\n",
        "    prompt = ChatPromptTemplate.from_template(prompt_template)\n",
        "\n",
        "    # Defining the chain using LECL\n",
        "    chain = (\n",
        "        {\"context\": retriever, \"question\": RunnablePassthrough()}\n",
        "        | prompt\n",
        "        | model\n",
        "        | StrOutputParser()\n",
        "    )\n",
        "    result = chain.invoke(\"What factors influence the efficiency of heat transfer in a heat exchanger?\")\n",
        "    print(result)"
      ],
      "metadata": {
        "id": "6EeK_lsoK4u6"
      },
      "id": "6EeK_lsoK4u6",
      "execution_count": null,
      "outputs": []
    },
    {
      "cell_type": "code",
      "source": [
        "text = \"\"\"The primary function of a heat exchanger is to transfer heat between two or more fluids.\n",
        "The efficiency of this heat transfer process depends on factors such as the surface area of the heat exchanger,\n",
        "the temperature difference between the fluids, and the flow arrangement. In a shell and tube heat exchanger,\n",
        "for instance, one fluid flows through the tubes while the other fluid flows around the tubes within the shell,\n",
        "maximizing the heat exchange surface.\"\"\""
      ],
      "metadata": {
        "id": "sbrUQzcbW5Z7"
      },
      "id": "sbrUQzcbW5Z7",
      "execution_count": null,
      "outputs": []
    },
    {
      "cell_type": "markdown",
      "source": [
        "### Character text splitting"
      ],
      "metadata": {
        "id": "923PtZvlRr5M"
      },
      "id": "923PtZvlRr5M"
    },
    {
      "cell_type": "code",
      "source": [
        "# Automatic Text Splitting\n",
        "from langchain.text_splitter import CharacterTextSplitter\n",
        "text_splitter = CharacterTextSplitter(chunk_size = 30, chunk_overlap=0, separator='', strip_whitespace=False)\n",
        "documents = text_splitter.create_documents([text])\n",
        "print(documents)"
      ],
      "metadata": {
        "colab": {
          "base_uri": "https://localhost:8080/",
          "height": 305
        },
        "id": "WmhDMTtERonA",
        "outputId": "4179542e-2190-46ae-9a73-b2a43ebc5ba6"
      },
      "id": "WmhDMTtERonA",
      "execution_count": null,
      "outputs": [
        {
          "output_type": "display_data",
          "data": {
            "text/plain": [
              "\u001b[1m[\u001b[0m\n",
              "    \u001b[1;35mDocument\u001b[0m\u001b[1m(\u001b[0m\u001b[33mpage_content\u001b[0m=\u001b[32m'The primary function of a heat'\u001b[0m\u001b[1m)\u001b[0m,\n",
              "    \u001b[1;35mDocument\u001b[0m\u001b[1m(\u001b[0m\u001b[33mpage_content\u001b[0m=\u001b[32m' exchanger is to transfer heat'\u001b[0m\u001b[1m)\u001b[0m,\n",
              "    \u001b[1;35mDocument\u001b[0m\u001b[1m(\u001b[0m\u001b[33mpage_content\u001b[0m=\u001b[32m' between two or more fluids. \\n'\u001b[0m\u001b[1m)\u001b[0m,\n",
              "    \u001b[1;35mDocument\u001b[0m\u001b[1m(\u001b[0m\u001b[33mpage_content\u001b[0m=\u001b[32m'The efficiency of this heat tr'\u001b[0m\u001b[1m)\u001b[0m,\n",
              "    \u001b[1;35mDocument\u001b[0m\u001b[1m(\u001b[0m\u001b[33mpage_content\u001b[0m=\u001b[32m'ansfer process depends on fact'\u001b[0m\u001b[1m)\u001b[0m,\n",
              "    \u001b[1;35mDocument\u001b[0m\u001b[1m(\u001b[0m\u001b[33mpage_content\u001b[0m=\u001b[32m'ors such as the surface area o'\u001b[0m\u001b[1m)\u001b[0m,\n",
              "    \u001b[1;35mDocument\u001b[0m\u001b[1m(\u001b[0m\u001b[33mpage_content\u001b[0m=\u001b[32m'f the heat exchanger, \\nthe tem'\u001b[0m\u001b[1m)\u001b[0m,\n",
              "    \u001b[1;35mDocument\u001b[0m\u001b[1m(\u001b[0m\u001b[33mpage_content\u001b[0m=\u001b[32m'perature difference between th'\u001b[0m\u001b[1m)\u001b[0m,\n",
              "    \u001b[1;35mDocument\u001b[0m\u001b[1m(\u001b[0m\u001b[33mpage_content\u001b[0m=\u001b[32m'e fluids, and the flow arrange'\u001b[0m\u001b[1m)\u001b[0m,\n",
              "    \u001b[1;35mDocument\u001b[0m\u001b[1m(\u001b[0m\u001b[33mpage_content\u001b[0m=\u001b[32m'ment. In a shell and tube heat'\u001b[0m\u001b[1m)\u001b[0m,\n",
              "    \u001b[1;35mDocument\u001b[0m\u001b[1m(\u001b[0m\u001b[33mpage_content\u001b[0m=\u001b[32m' exchanger, \\nfor instance, one'\u001b[0m\u001b[1m)\u001b[0m,\n",
              "    \u001b[1;35mDocument\u001b[0m\u001b[1m(\u001b[0m\u001b[33mpage_content\u001b[0m=\u001b[32m' fluid flows through the tubes'\u001b[0m\u001b[1m)\u001b[0m,\n",
              "    \u001b[1;35mDocument\u001b[0m\u001b[1m(\u001b[0m\u001b[33mpage_content\u001b[0m=\u001b[32m' while the other fluid flows a'\u001b[0m\u001b[1m)\u001b[0m,\n",
              "    \u001b[1;35mDocument\u001b[0m\u001b[1m(\u001b[0m\u001b[33mpage_content\u001b[0m=\u001b[32m'round the tubes within the she'\u001b[0m\u001b[1m)\u001b[0m,\n",
              "    \u001b[1;35mDocument\u001b[0m\u001b[1m(\u001b[0m\u001b[33mpage_content\u001b[0m=\u001b[32m'll, \\nmaximizing the heat excha'\u001b[0m\u001b[1m)\u001b[0m,\n",
              "    \u001b[1;35mDocument\u001b[0m\u001b[1m(\u001b[0m\u001b[33mpage_content\u001b[0m=\u001b[32m'nge surface.'\u001b[0m\u001b[1m)\u001b[0m\n",
              "\u001b[1m]\u001b[0m\n"
            ],
            "text/html": [
              "<pre style=\"white-space:pre;overflow-x:auto;line-height:normal;font-family:Menlo,'DejaVu Sans Mono',consolas,'Courier New',monospace\"><span style=\"font-weight: bold\">[</span>\n",
              "    <span style=\"color: #800080; text-decoration-color: #800080; font-weight: bold\">Document</span><span style=\"font-weight: bold\">(</span><span style=\"color: #808000; text-decoration-color: #808000\">page_content</span>=<span style=\"color: #008000; text-decoration-color: #008000\">'The primary function of a heat'</span><span style=\"font-weight: bold\">)</span>,\n",
              "    <span style=\"color: #800080; text-decoration-color: #800080; font-weight: bold\">Document</span><span style=\"font-weight: bold\">(</span><span style=\"color: #808000; text-decoration-color: #808000\">page_content</span>=<span style=\"color: #008000; text-decoration-color: #008000\">' exchanger is to transfer heat'</span><span style=\"font-weight: bold\">)</span>,\n",
              "    <span style=\"color: #800080; text-decoration-color: #800080; font-weight: bold\">Document</span><span style=\"font-weight: bold\">(</span><span style=\"color: #808000; text-decoration-color: #808000\">page_content</span>=<span style=\"color: #008000; text-decoration-color: #008000\">' between two or more fluids. \\n'</span><span style=\"font-weight: bold\">)</span>,\n",
              "    <span style=\"color: #800080; text-decoration-color: #800080; font-weight: bold\">Document</span><span style=\"font-weight: bold\">(</span><span style=\"color: #808000; text-decoration-color: #808000\">page_content</span>=<span style=\"color: #008000; text-decoration-color: #008000\">'The efficiency of this heat tr'</span><span style=\"font-weight: bold\">)</span>,\n",
              "    <span style=\"color: #800080; text-decoration-color: #800080; font-weight: bold\">Document</span><span style=\"font-weight: bold\">(</span><span style=\"color: #808000; text-decoration-color: #808000\">page_content</span>=<span style=\"color: #008000; text-decoration-color: #008000\">'ansfer process depends on fact'</span><span style=\"font-weight: bold\">)</span>,\n",
              "    <span style=\"color: #800080; text-decoration-color: #800080; font-weight: bold\">Document</span><span style=\"font-weight: bold\">(</span><span style=\"color: #808000; text-decoration-color: #808000\">page_content</span>=<span style=\"color: #008000; text-decoration-color: #008000\">'ors such as the surface area o'</span><span style=\"font-weight: bold\">)</span>,\n",
              "    <span style=\"color: #800080; text-decoration-color: #800080; font-weight: bold\">Document</span><span style=\"font-weight: bold\">(</span><span style=\"color: #808000; text-decoration-color: #808000\">page_content</span>=<span style=\"color: #008000; text-decoration-color: #008000\">'f the heat exchanger, \\nthe tem'</span><span style=\"font-weight: bold\">)</span>,\n",
              "    <span style=\"color: #800080; text-decoration-color: #800080; font-weight: bold\">Document</span><span style=\"font-weight: bold\">(</span><span style=\"color: #808000; text-decoration-color: #808000\">page_content</span>=<span style=\"color: #008000; text-decoration-color: #008000\">'perature difference between th'</span><span style=\"font-weight: bold\">)</span>,\n",
              "    <span style=\"color: #800080; text-decoration-color: #800080; font-weight: bold\">Document</span><span style=\"font-weight: bold\">(</span><span style=\"color: #808000; text-decoration-color: #808000\">page_content</span>=<span style=\"color: #008000; text-decoration-color: #008000\">'e fluids, and the flow arrange'</span><span style=\"font-weight: bold\">)</span>,\n",
              "    <span style=\"color: #800080; text-decoration-color: #800080; font-weight: bold\">Document</span><span style=\"font-weight: bold\">(</span><span style=\"color: #808000; text-decoration-color: #808000\">page_content</span>=<span style=\"color: #008000; text-decoration-color: #008000\">'ment. In a shell and tube heat'</span><span style=\"font-weight: bold\">)</span>,\n",
              "    <span style=\"color: #800080; text-decoration-color: #800080; font-weight: bold\">Document</span><span style=\"font-weight: bold\">(</span><span style=\"color: #808000; text-decoration-color: #808000\">page_content</span>=<span style=\"color: #008000; text-decoration-color: #008000\">' exchanger, \\nfor instance, one'</span><span style=\"font-weight: bold\">)</span>,\n",
              "    <span style=\"color: #800080; text-decoration-color: #800080; font-weight: bold\">Document</span><span style=\"font-weight: bold\">(</span><span style=\"color: #808000; text-decoration-color: #808000\">page_content</span>=<span style=\"color: #008000; text-decoration-color: #008000\">' fluid flows through the tubes'</span><span style=\"font-weight: bold\">)</span>,\n",
              "    <span style=\"color: #800080; text-decoration-color: #800080; font-weight: bold\">Document</span><span style=\"font-weight: bold\">(</span><span style=\"color: #808000; text-decoration-color: #808000\">page_content</span>=<span style=\"color: #008000; text-decoration-color: #008000\">' while the other fluid flows a'</span><span style=\"font-weight: bold\">)</span>,\n",
              "    <span style=\"color: #800080; text-decoration-color: #800080; font-weight: bold\">Document</span><span style=\"font-weight: bold\">(</span><span style=\"color: #808000; text-decoration-color: #808000\">page_content</span>=<span style=\"color: #008000; text-decoration-color: #008000\">'round the tubes within the she'</span><span style=\"font-weight: bold\">)</span>,\n",
              "    <span style=\"color: #800080; text-decoration-color: #800080; font-weight: bold\">Document</span><span style=\"font-weight: bold\">(</span><span style=\"color: #808000; text-decoration-color: #808000\">page_content</span>=<span style=\"color: #008000; text-decoration-color: #008000\">'ll, \\nmaximizing the heat excha'</span><span style=\"font-weight: bold\">)</span>,\n",
              "    <span style=\"color: #800080; text-decoration-color: #800080; font-weight: bold\">Document</span><span style=\"font-weight: bold\">(</span><span style=\"color: #808000; text-decoration-color: #808000\">page_content</span>=<span style=\"color: #008000; text-decoration-color: #008000\">'nge surface.'</span><span style=\"font-weight: bold\">)</span>\n",
              "<span style=\"font-weight: bold\">]</span>\n",
              "</pre>\n"
            ]
          },
          "metadata": {}
        }
      ]
    },
    {
      "cell_type": "code",
      "source": [
        "rag(documents,\"text-splitting\",embedding_model)"
      ],
      "metadata": {
        "colab": {
          "base_uri": "https://localhost:8080/",
          "height": 97
        },
        "id": "sog4mXZVR6mV",
        "outputId": "519a7a32-9af2-4b31-9e9d-889bf4abb914"
      },
      "id": "sog4mXZVR6mV",
      "execution_count": null,
      "outputs": [
        {
          "output_type": "display_data",
          "data": {
            "text/plain": [
              "Based on the provided context, I can answer the question:\n",
              "\n",
              "The primary function of a heat exchanger is not explicitly stated in the provided documents. However, we can infer \n",
              "that the primary function of a heat exchanger is being discussed, as the same phrase is repeated multiple times in \n",
              "different documents.\n"
            ],
            "text/html": [
              "<pre style=\"white-space:pre;overflow-x:auto;line-height:normal;font-family:Menlo,'DejaVu Sans Mono',consolas,'Courier New',monospace\">Based on the provided context, I can answer the question:\n",
              "\n",
              "The primary function of a heat exchanger is not explicitly stated in the provided documents. However, we can infer \n",
              "that the primary function of a heat exchanger is being discussed, as the same phrase is repeated multiple times in \n",
              "different documents.\n",
              "</pre>\n"
            ]
          },
          "metadata": {}
        }
      ]
    },
    {
      "cell_type": "markdown",
      "source": [
        "### Recursive Character splitter"
      ],
      "metadata": {
        "id": "fGUjVqfiX0iH"
      },
      "id": "fGUjVqfiX0iH"
    },
    {
      "cell_type": "code",
      "source": [
        "# Automatic Text Splitting\n",
        "from langchain.text_splitter import RecursiveCharacterTextSplitter\n",
        "text_splitter = RecursiveCharacterTextSplitter(chunk_size = 30, chunk_overlap=0, separators=[], strip_whitespace=False)\n",
        "documents = text_splitter.create_documents([text])\n",
        "print(documents)"
      ],
      "metadata": {
        "colab": {
          "base_uri": "https://localhost:8080/",
          "height": 321
        },
        "id": "4M9AE76gX5He",
        "outputId": "aa470bcd-4949-4657-ad0e-585ae1b9aac6"
      },
      "id": "4M9AE76gX5He",
      "execution_count": null,
      "outputs": [
        {
          "output_type": "display_data",
          "data": {
            "text/plain": [
              "\u001b[1m[\u001b[0m\n",
              "    \u001b[1;35mDocument\u001b[0m\u001b[1m(\u001b[0m\u001b[33mpage_content\u001b[0m=\u001b[32m'The primary function of a heat'\u001b[0m\u001b[1m)\u001b[0m,\n",
              "    \u001b[1;35mDocument\u001b[0m\u001b[1m(\u001b[0m\u001b[33mpage_content\u001b[0m=\u001b[32m' exchanger is to transfer heat'\u001b[0m\u001b[1m)\u001b[0m,\n",
              "    \u001b[1;35mDocument\u001b[0m\u001b[1m(\u001b[0m\u001b[33mpage_content\u001b[0m=\u001b[32m' between two or more fluids. '\u001b[0m\u001b[1m)\u001b[0m,\n",
              "    \u001b[1;35mDocument\u001b[0m\u001b[1m(\u001b[0m\u001b[33mpage_content\u001b[0m=\u001b[32m'\\nThe efficiency of this heat'\u001b[0m\u001b[1m)\u001b[0m,\n",
              "    \u001b[1;35mDocument\u001b[0m\u001b[1m(\u001b[0m\u001b[33mpage_content\u001b[0m=\u001b[32m' transfer process depends on'\u001b[0m\u001b[1m)\u001b[0m,\n",
              "    \u001b[1;35mDocument\u001b[0m\u001b[1m(\u001b[0m\u001b[33mpage_content\u001b[0m=\u001b[32m' factors such as the surface'\u001b[0m\u001b[1m)\u001b[0m,\n",
              "    \u001b[1;35mDocument\u001b[0m\u001b[1m(\u001b[0m\u001b[33mpage_content\u001b[0m=\u001b[32m' area of the heat exchanger, '\u001b[0m\u001b[1m)\u001b[0m,\n",
              "    \u001b[1;35mDocument\u001b[0m\u001b[1m(\u001b[0m\u001b[33mpage_content\u001b[0m=\u001b[32m'\\nthe temperature difference'\u001b[0m\u001b[1m)\u001b[0m,\n",
              "    \u001b[1;35mDocument\u001b[0m\u001b[1m(\u001b[0m\u001b[33mpage_content\u001b[0m=\u001b[32m' between the fluids, and the'\u001b[0m\u001b[1m)\u001b[0m,\n",
              "    \u001b[1;35mDocument\u001b[0m\u001b[1m(\u001b[0m\u001b[33mpage_content\u001b[0m=\u001b[32m' flow arrangement. In a shell'\u001b[0m\u001b[1m)\u001b[0m,\n",
              "    \u001b[1;35mDocument\u001b[0m\u001b[1m(\u001b[0m\u001b[33mpage_content\u001b[0m=\u001b[32m' and tube heat exchanger, '\u001b[0m\u001b[1m)\u001b[0m,\n",
              "    \u001b[1;35mDocument\u001b[0m\u001b[1m(\u001b[0m\u001b[33mpage_content\u001b[0m=\u001b[32m'\\nfor instance, one fluid flows'\u001b[0m\u001b[1m)\u001b[0m,\n",
              "    \u001b[1;35mDocument\u001b[0m\u001b[1m(\u001b[0m\u001b[33mpage_content\u001b[0m=\u001b[32m' through the tubes while the'\u001b[0m\u001b[1m)\u001b[0m,\n",
              "    \u001b[1;35mDocument\u001b[0m\u001b[1m(\u001b[0m\u001b[33mpage_content\u001b[0m=\u001b[32m' other fluid flows around the'\u001b[0m\u001b[1m)\u001b[0m,\n",
              "    \u001b[1;35mDocument\u001b[0m\u001b[1m(\u001b[0m\u001b[33mpage_content\u001b[0m=\u001b[32m' tubes within the shell, '\u001b[0m\u001b[1m)\u001b[0m,\n",
              "    \u001b[1;35mDocument\u001b[0m\u001b[1m(\u001b[0m\u001b[33mpage_content\u001b[0m=\u001b[32m'\\nmaximizing the heat exchange'\u001b[0m\u001b[1m)\u001b[0m,\n",
              "    \u001b[1;35mDocument\u001b[0m\u001b[1m(\u001b[0m\u001b[33mpage_content\u001b[0m=\u001b[32m' surface.'\u001b[0m\u001b[1m)\u001b[0m\n",
              "\u001b[1m]\u001b[0m\n"
            ],
            "text/html": [
              "<pre style=\"white-space:pre;overflow-x:auto;line-height:normal;font-family:Menlo,'DejaVu Sans Mono',consolas,'Courier New',monospace\"><span style=\"font-weight: bold\">[</span>\n",
              "    <span style=\"color: #800080; text-decoration-color: #800080; font-weight: bold\">Document</span><span style=\"font-weight: bold\">(</span><span style=\"color: #808000; text-decoration-color: #808000\">page_content</span>=<span style=\"color: #008000; text-decoration-color: #008000\">'The primary function of a heat'</span><span style=\"font-weight: bold\">)</span>,\n",
              "    <span style=\"color: #800080; text-decoration-color: #800080; font-weight: bold\">Document</span><span style=\"font-weight: bold\">(</span><span style=\"color: #808000; text-decoration-color: #808000\">page_content</span>=<span style=\"color: #008000; text-decoration-color: #008000\">' exchanger is to transfer heat'</span><span style=\"font-weight: bold\">)</span>,\n",
              "    <span style=\"color: #800080; text-decoration-color: #800080; font-weight: bold\">Document</span><span style=\"font-weight: bold\">(</span><span style=\"color: #808000; text-decoration-color: #808000\">page_content</span>=<span style=\"color: #008000; text-decoration-color: #008000\">' between two or more fluids. '</span><span style=\"font-weight: bold\">)</span>,\n",
              "    <span style=\"color: #800080; text-decoration-color: #800080; font-weight: bold\">Document</span><span style=\"font-weight: bold\">(</span><span style=\"color: #808000; text-decoration-color: #808000\">page_content</span>=<span style=\"color: #008000; text-decoration-color: #008000\">'\\nThe efficiency of this heat'</span><span style=\"font-weight: bold\">)</span>,\n",
              "    <span style=\"color: #800080; text-decoration-color: #800080; font-weight: bold\">Document</span><span style=\"font-weight: bold\">(</span><span style=\"color: #808000; text-decoration-color: #808000\">page_content</span>=<span style=\"color: #008000; text-decoration-color: #008000\">' transfer process depends on'</span><span style=\"font-weight: bold\">)</span>,\n",
              "    <span style=\"color: #800080; text-decoration-color: #800080; font-weight: bold\">Document</span><span style=\"font-weight: bold\">(</span><span style=\"color: #808000; text-decoration-color: #808000\">page_content</span>=<span style=\"color: #008000; text-decoration-color: #008000\">' factors such as the surface'</span><span style=\"font-weight: bold\">)</span>,\n",
              "    <span style=\"color: #800080; text-decoration-color: #800080; font-weight: bold\">Document</span><span style=\"font-weight: bold\">(</span><span style=\"color: #808000; text-decoration-color: #808000\">page_content</span>=<span style=\"color: #008000; text-decoration-color: #008000\">' area of the heat exchanger, '</span><span style=\"font-weight: bold\">)</span>,\n",
              "    <span style=\"color: #800080; text-decoration-color: #800080; font-weight: bold\">Document</span><span style=\"font-weight: bold\">(</span><span style=\"color: #808000; text-decoration-color: #808000\">page_content</span>=<span style=\"color: #008000; text-decoration-color: #008000\">'\\nthe temperature difference'</span><span style=\"font-weight: bold\">)</span>,\n",
              "    <span style=\"color: #800080; text-decoration-color: #800080; font-weight: bold\">Document</span><span style=\"font-weight: bold\">(</span><span style=\"color: #808000; text-decoration-color: #808000\">page_content</span>=<span style=\"color: #008000; text-decoration-color: #008000\">' between the fluids, and the'</span><span style=\"font-weight: bold\">)</span>,\n",
              "    <span style=\"color: #800080; text-decoration-color: #800080; font-weight: bold\">Document</span><span style=\"font-weight: bold\">(</span><span style=\"color: #808000; text-decoration-color: #808000\">page_content</span>=<span style=\"color: #008000; text-decoration-color: #008000\">' flow arrangement. In a shell'</span><span style=\"font-weight: bold\">)</span>,\n",
              "    <span style=\"color: #800080; text-decoration-color: #800080; font-weight: bold\">Document</span><span style=\"font-weight: bold\">(</span><span style=\"color: #808000; text-decoration-color: #808000\">page_content</span>=<span style=\"color: #008000; text-decoration-color: #008000\">' and tube heat exchanger, '</span><span style=\"font-weight: bold\">)</span>,\n",
              "    <span style=\"color: #800080; text-decoration-color: #800080; font-weight: bold\">Document</span><span style=\"font-weight: bold\">(</span><span style=\"color: #808000; text-decoration-color: #808000\">page_content</span>=<span style=\"color: #008000; text-decoration-color: #008000\">'\\nfor instance, one fluid flows'</span><span style=\"font-weight: bold\">)</span>,\n",
              "    <span style=\"color: #800080; text-decoration-color: #800080; font-weight: bold\">Document</span><span style=\"font-weight: bold\">(</span><span style=\"color: #808000; text-decoration-color: #808000\">page_content</span>=<span style=\"color: #008000; text-decoration-color: #008000\">' through the tubes while the'</span><span style=\"font-weight: bold\">)</span>,\n",
              "    <span style=\"color: #800080; text-decoration-color: #800080; font-weight: bold\">Document</span><span style=\"font-weight: bold\">(</span><span style=\"color: #808000; text-decoration-color: #808000\">page_content</span>=<span style=\"color: #008000; text-decoration-color: #008000\">' other fluid flows around the'</span><span style=\"font-weight: bold\">)</span>,\n",
              "    <span style=\"color: #800080; text-decoration-color: #800080; font-weight: bold\">Document</span><span style=\"font-weight: bold\">(</span><span style=\"color: #808000; text-decoration-color: #808000\">page_content</span>=<span style=\"color: #008000; text-decoration-color: #008000\">' tubes within the shell, '</span><span style=\"font-weight: bold\">)</span>,\n",
              "    <span style=\"color: #800080; text-decoration-color: #800080; font-weight: bold\">Document</span><span style=\"font-weight: bold\">(</span><span style=\"color: #808000; text-decoration-color: #808000\">page_content</span>=<span style=\"color: #008000; text-decoration-color: #008000\">'\\nmaximizing the heat exchange'</span><span style=\"font-weight: bold\">)</span>,\n",
              "    <span style=\"color: #800080; text-decoration-color: #800080; font-weight: bold\">Document</span><span style=\"font-weight: bold\">(</span><span style=\"color: #808000; text-decoration-color: #808000\">page_content</span>=<span style=\"color: #008000; text-decoration-color: #008000\">' surface.'</span><span style=\"font-weight: bold\">)</span>\n",
              "<span style=\"font-weight: bold\">]</span>\n",
              "</pre>\n"
            ]
          },
          "metadata": {}
        }
      ]
    },
    {
      "cell_type": "code",
      "source": [
        "rag(documents,\"recu-splitting\",embedding_model)"
      ],
      "metadata": {
        "colab": {
          "base_uri": "https://localhost:8080/",
          "height": 65
        },
        "id": "nQwzBfXAidDW",
        "outputId": "89575879-22a2-4621-9e8b-7f666206e954"
      },
      "id": "nQwzBfXAidDW",
      "execution_count": null,
      "outputs": [
        {
          "output_type": "display_data",
          "data": {
            "text/plain": [
              "Based on the given context, it is not possible to determine the exact factors that influence the efficiency of heat\n",
              "transfer in a heat exchanger. The context only mentions \u001b[32m\"maximizing the heat exchange\"\u001b[0m and \u001b[32m\"area of the heat \u001b[0m\n",
              "\u001b[32mexchanger\"\u001b[0m, but does not provide any information about the factors that affect the efficiency of heat transfer.\n"
            ],
            "text/html": [
              "<pre style=\"white-space:pre;overflow-x:auto;line-height:normal;font-family:Menlo,'DejaVu Sans Mono',consolas,'Courier New',monospace\">Based on the given context, it is not possible to determine the exact factors that influence the efficiency of heat\n",
              "transfer in a heat exchanger. The context only mentions <span style=\"color: #008000; text-decoration-color: #008000\">\"maximizing the heat exchange\"</span> and <span style=\"color: #008000; text-decoration-color: #008000\">\"area of the heat </span>\n",
              "<span style=\"color: #008000; text-decoration-color: #008000\">exchanger\"</span>, but does not provide any information about the factors that affect the efficiency of heat transfer.\n",
              "</pre>\n"
            ]
          },
          "metadata": {}
        }
      ]
    },
    {
      "cell_type": "markdown",
      "source": [
        "### Semantic Chunking"
      ],
      "metadata": {
        "id": "KztimsnNjrJc"
      },
      "id": "KztimsnNjrJc"
    },
    {
      "cell_type": "code",
      "source": [
        "from langchain_experimental.text_splitter import SemanticChunker\n",
        "\n",
        "# Percentile - all differences between sentences are calculated, and then any difference greater than the X percentile is split\n",
        "text_splitter = SemanticChunker(\n",
        "    embedding_model, breakpoint_threshold_type=\"percentile\" # \"standard_deviation\", \"interquartile\"\n",
        ")\n",
        "documents = text_splitter.create_documents([text])\n",
        "print(documents)"
      ],
      "metadata": {
        "colab": {
          "base_uri": "https://localhost:8080/",
          "height": 193
        },
        "id": "6KoLDZM5jfN4",
        "outputId": "10a9aafd-e142-4f52-c3b2-9a8a34162a13"
      },
      "id": "6KoLDZM5jfN4",
      "execution_count": null,
      "outputs": [
        {
          "output_type": "display_data",
          "data": {
            "text/plain": [
              "\u001b[1m[\u001b[0m\n",
              "    \u001b[1;35mDocument\u001b[0m\u001b[1m(\u001b[0m\n",
              "        \u001b[33mpage_content\u001b[0m=\u001b[32m'The primary function of a heat exchanger is to transfer heat between two or more fluids. The \u001b[0m\n",
              "\u001b[32mefficiency of this heat transfer process depends on factors such as the surface area of the heat exchanger, \\nthe \u001b[0m\n",
              "\u001b[32mtemperature difference between the fluids, and the flow arrangement.'\u001b[0m\n",
              "    \u001b[1m)\u001b[0m,\n",
              "    \u001b[1;35mDocument\u001b[0m\u001b[1m(\u001b[0m\n",
              "        \u001b[33mpage_content\u001b[0m=\u001b[32m'In a shell and tube heat exchanger, \\nfor instance, one fluid flows through the tubes while \u001b[0m\n",
              "\u001b[32mthe other fluid flows around the tubes within the shell, \\nmaximizing the heat exchange surface.'\u001b[0m\n",
              "    \u001b[1m)\u001b[0m\n",
              "\u001b[1m]\u001b[0m\n"
            ],
            "text/html": [
              "<pre style=\"white-space:pre;overflow-x:auto;line-height:normal;font-family:Menlo,'DejaVu Sans Mono',consolas,'Courier New',monospace\"><span style=\"font-weight: bold\">[</span>\n",
              "    <span style=\"color: #800080; text-decoration-color: #800080; font-weight: bold\">Document</span><span style=\"font-weight: bold\">(</span>\n",
              "        <span style=\"color: #808000; text-decoration-color: #808000\">page_content</span>=<span style=\"color: #008000; text-decoration-color: #008000\">'The primary function of a heat exchanger is to transfer heat between two or more fluids. The </span>\n",
              "<span style=\"color: #008000; text-decoration-color: #008000\">efficiency of this heat transfer process depends on factors such as the surface area of the heat exchanger, \\nthe </span>\n",
              "<span style=\"color: #008000; text-decoration-color: #008000\">temperature difference between the fluids, and the flow arrangement.'</span>\n",
              "    <span style=\"font-weight: bold\">)</span>,\n",
              "    <span style=\"color: #800080; text-decoration-color: #800080; font-weight: bold\">Document</span><span style=\"font-weight: bold\">(</span>\n",
              "        <span style=\"color: #808000; text-decoration-color: #808000\">page_content</span>=<span style=\"color: #008000; text-decoration-color: #008000\">'In a shell and tube heat exchanger, \\nfor instance, one fluid flows through the tubes while </span>\n",
              "<span style=\"color: #008000; text-decoration-color: #008000\">the other fluid flows around the tubes within the shell, \\nmaximizing the heat exchange surface.'</span>\n",
              "    <span style=\"font-weight: bold\">)</span>\n",
              "<span style=\"font-weight: bold\">]</span>\n",
              "</pre>\n"
            ]
          },
          "metadata": {}
        }
      ]
    },
    {
      "cell_type": "code",
      "source": [
        "rag(documents,\"semantic-splitting\",embedding_model)"
      ],
      "metadata": {
        "colab": {
          "base_uri": "https://localhost:8080/",
          "height": 134
        },
        "id": "0bUt6EowjfPu",
        "outputId": "b281b82e-92df-4b43-cd6b-da350f408780"
      },
      "id": "0bUt6EowjfPu",
      "execution_count": null,
      "outputs": [
        {
          "output_type": "stream",
          "name": "stderr",
          "text": [
            "WARNING:chromadb.segment.impl.vector.local_hnsw:Number of requested results 4 is greater than number of elements in index 2, updating n_results = 2\n"
          ]
        },
        {
          "output_type": "display_data",
          "data": {
            "text/plain": [
              "According to the context, the factors that influence the efficiency of heat transfer in a heat exchanger are:\n",
              "\n",
              "\u001b[1;36m1\u001b[0m. Surface area of the heat exchanger\n",
              "\u001b[1;36m2\u001b[0m. Temperature difference between the fluids\n",
              "\u001b[1;36m3\u001b[0m. Flow arrangement\n"
            ],
            "text/html": [
              "<pre style=\"white-space:pre;overflow-x:auto;line-height:normal;font-family:Menlo,'DejaVu Sans Mono',consolas,'Courier New',monospace\">According to the context, the factors that influence the efficiency of heat transfer in a heat exchanger are:\n",
              "\n",
              "<span style=\"color: #008080; text-decoration-color: #008080; font-weight: bold\">1</span>. Surface area of the heat exchanger\n",
              "<span style=\"color: #008080; text-decoration-color: #008080; font-weight: bold\">2</span>. Temperature difference between the fluids\n",
              "<span style=\"color: #008080; text-decoration-color: #008080; font-weight: bold\">3</span>. Flow arrangement\n",
              "</pre>\n"
            ]
          },
          "metadata": {}
        }
      ]
    }
  ],
  "metadata": {
    "kernelspec": {
      "display_name": "Tutorial_venv",
      "language": "python",
      "name": "venv"
    },
    "language_info": {
      "codemirror_mode": {
        "name": "ipython",
        "version": 3
      },
      "file_extension": ".py",
      "mimetype": "text/x-python",
      "name": "python",
      "nbconvert_exporter": "python",
      "pygments_lexer": "ipython3",
      "version": "3.12.4"
    },
    "colab": {
      "provenance": []
    }
  },
  "nbformat": 4,
  "nbformat_minor": 5
}