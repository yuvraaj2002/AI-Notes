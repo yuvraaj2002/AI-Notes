{
 "cells": [
  {
   "cell_type": "code",
   "execution_count": null,
   "metadata": {},
   "outputs": [],
   "source": [
    "import numpy as np\n",
    "import scipy.stats as stats\n",
    "\n",
    "# Sample data\n",
    "data = [12, 15, 14, 10, 13, 14, 16, 15, 14, 13]\n",
    "\n",
    "# Calculate the sample mean and standard error\n",
    "sample_mean = np.mean(data)\n",
    "sample_std = np.std(data, ddof=1)\n",
    "n = len(data)\n",
    "standard_error = sample_std / np.sqrt(n)\n",
    "\n",
    "# Calculate the t critical value for 95% confidence level\n",
    "confidence_level = 0.95\n",
    "degrees_of_freedom = n - 1\n",
    "t_critical = stats.t.ppf((1 + confidence_level) / 2, degrees_of_freedom)\n",
    "\n",
    "# Calculate the margin of error\n",
    "margin_of_error = t_critical * standard_error\n",
    "\n",
    "# Calculate the confidence interval\n",
    "confidence_interval = (sample_mean - margin_of_error, sample_mean + margin_of_error)\n",
    "\n",
    "# Print the results\n",
    "print(f\"Sample Mean: {sample_mean}\")\n",
    "print(f\"Standard Error: {standard_error}\")\n",
    "print(f\"T Critical Value: {t_critical}\")\n",
    "print(f\"Margin of Error: {margin_of_error}\")\n",
    "print(f\"95% Confidence Interval: {confidence_interval}\")\n"
   ]
  }
 ],
 "metadata": {
  "language_info": {
   "name": "python"
  }
 },
 "nbformat": 4,
 "nbformat_minor": 2
}
