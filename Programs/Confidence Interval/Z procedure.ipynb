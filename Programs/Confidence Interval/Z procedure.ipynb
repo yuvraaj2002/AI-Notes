{
 "cells": [
  {
   "cell_type": "code",
   "execution_count": null,
   "metadata": {},
   "outputs": [],
   "source": [
    "import numpy as np\n",
    "import scipy.stats as stats\n",
    "\n",
    "def z_confidence_interval(sample_data, confidence=0.95):\n",
    "    # Calculate the sample mean\n",
    "    sample_mean = np.mean(sample_data)\n",
    "    \n",
    "    # Calculate the standard error of the mean\n",
    "    standard_error = np.std(sample_data, ddof=1) / np.sqrt(len(sample_data))\n",
    "    \n",
    "    # Find the z-score for the given confidence level\n",
    "    z_score = stats.norm.ppf((1 + confidence) / 2)\n",
    "    \n",
    "    # Calculate the margin of error\n",
    "    margin_of_error = z_score * standard_error\n",
    "    \n",
    "    # Calculate the confidence interval\n",
    "    confidence_interval = (sample_mean - margin_of_error, sample_mean + margin_of_error)\n",
    "    \n",
    "    return confidence_interval\n",
    "\n",
    "# Example usage\n",
    "sample_data = [1.2, 2.3, 3.1, 4.5, 5.0, 6.7, 7.8, 8.9, 9.0, 10.1]\n",
    "confidence_interval = z_confidence_interval(sample_data)\n",
    "print(\"95% Confidence Interval:\", confidence_interval)\n"
   ]
  }
 ],
 "metadata": {
  "language_info": {
   "name": "python"
  }
 },
 "nbformat": 4,
 "nbformat_minor": 2
}
