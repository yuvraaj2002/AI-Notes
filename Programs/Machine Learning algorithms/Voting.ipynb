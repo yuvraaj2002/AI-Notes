{
 "cells": [
  {
   "cell_type": "code",
   "execution_count": 7,
   "metadata": {},
   "outputs": [
    {
     "name": "stdout",
     "output_type": "stream",
     "text": [
      "Voting Classifier F1 Score (soft): 0.9128853471180443\n",
      "Voting Classifier F1 Score (hard): 0.7991053548387398\n"
     ]
    }
   ],
   "source": [
    "from sklearn.datasets import fetch_covtype\n",
    "from sklearn.model_selection import train_test_split\n",
    "from sklearn.preprocessing import StandardScaler\n",
    "from sklearn.ensemble import VotingClassifier\n",
    "from sklearn.linear_model import LogisticRegression\n",
    "from sklearn.neighbors import KNeighborsClassifier\n",
    "from sklearn.metrics import f1_score\n",
    "\n",
    "# Load dataset\n",
    "data = fetch_covtype()\n",
    "X, y = data.data, data.target\n",
    "\n",
    "# Split the dataset into training and testing sets\n",
    "X_train, X_test, y_train, y_test = train_test_split(X, y, test_size=0.2, random_state=42)\n",
    "\n",
    "# Standardize the features\n",
    "scaler = StandardScaler()\n",
    "X_train = scaler.fit_transform(X_train)\n",
    "X_test = scaler.transform(X_test)\n",
    "\n",
    "# Create the individual models\n",
    "log_clf = LogisticRegression(max_iter=1000)\n",
    "knn_clf = KNeighborsClassifier()\n",
    "\n",
    "# Create the voting classifier (soft)\n",
    "voting_clf_soft = VotingClassifier(\n",
    "    estimators=[('lr', log_clf), ('knn', knn_clf)],\n",
    "    voting='soft'\n",
    ")\n",
    "\n",
    "# Create the voting classifier (hard)\n",
    "voting_clf_hard = VotingClassifier(\n",
    "    estimators=[('lr', log_clf), ('knn', knn_clf)],\n",
    "    voting='hard'\n",
    ")\n",
    "\n",
    "# Train the voting classifier\n",
    "voting_clf_soft.fit(X_train, y_train)\n",
    "voting_clf_hard.fit(X_train, y_train)\n",
    "\n",
    "\n",
    "# Evaluate the voting classifier\n",
    "y_pred_soft = voting_clf_soft.predict(X_test)\n",
    "y_pred_hard = voting_clf_hard.predict(X_test)\n",
    "\n",
    "f1_score_soft = f1_score(y_test, y_pred_soft, average='weighted')\n",
    "f1_score_hard = f1_score(y_test, y_pred_hard, average='weighted')\n",
    "\n",
    "print(f'Voting Classifier F1 Score (soft): {f1_score_soft}')\n",
    "print(f'Voting Classifier F1 Score (hard): {f1_score_hard}')\n"
   ]
  },
  {
   "cell_type": "markdown",
   "metadata": {},
   "source": [
    "# Voting Regressor"
   ]
  },
  {
   "cell_type": "code",
   "execution_count": 11,
   "metadata": {},
   "outputs": [
    {
     "name": "stdout",
     "output_type": "stream",
     "text": [
      "Voting Regressor Mean Squared Error: 0.43660600440646297\n"
     ]
    }
   ],
   "source": [
    "from sklearn.datasets import fetch_california_housing\n",
    "from sklearn.linear_model import LinearRegression\n",
    "from sklearn.ensemble import VotingRegressor\n",
    "from sklearn.metrics import mean_squared_error\n",
    "from sklearn.neighbors import KNeighborsRegressor  # Add this import\n",
    "\n",
    "# Load dataset\n",
    "data = fetch_california_housing()\n",
    "X, y = data.data, data.target\n",
    "\n",
    "# Split the dataset into training and testing sets\n",
    "X_train, X_test, y_train, y_test = train_test_split(X, y, test_size=0.2, random_state=42)\n",
    "\n",
    "# Standardize the features\n",
    "scaler = StandardScaler()\n",
    "X_train = scaler.fit_transform(X_train)\n",
    "X_test = scaler.transform(X_test)\n",
    "\n",
    "# Create the individual models\n",
    "lin_reg = LinearRegression()\n",
    "knn_reg = KNeighborsRegressor()  # Ensure this is defined\n",
    "\n",
    "# Create the voting regressor\n",
    "voting_reg = VotingRegressor(\n",
    "    estimators=[('lr', lin_reg), ('knn', knn_reg)]\n",
    ")\n",
    "\n",
    "# Train the voting regressor\n",
    "voting_reg.fit(X_train, y_train)\n",
    "\n",
    "# Evaluate the voting regressor\n",
    "y_pred = voting_reg.predict(X_test)\n",
    "\n",
    "mse = mean_squared_error(y_test, y_pred)\n",
    "print(f'Voting Regressor Mean Squared Error: {mse}')"
   ]
  },
  {
   "cell_type": "code",
   "execution_count": null,
   "metadata": {},
   "outputs": [],
   "source": []
  }
 ],
 "metadata": {
  "kernelspec": {
   "display_name": "Tutorial_venv",
   "language": "python",
   "name": "venv"
  },
  "language_info": {
   "codemirror_mode": {
    "name": "ipython",
    "version": 3
   },
   "file_extension": ".py",
   "mimetype": "text/x-python",
   "name": "python",
   "nbconvert_exporter": "python",
   "pygments_lexer": "ipython3",
   "version": "3.12.4"
  }
 },
 "nbformat": 4,
 "nbformat_minor": 2
}
