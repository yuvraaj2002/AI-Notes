{
 "cells": [
  {
   "cell_type": "code",
   "execution_count": 26,
   "metadata": {},
   "outputs": [
    {
     "data": {
      "image/png": "[encoded data removed]",
      "text/plain": [
       "<Figure size 640x480 with 1 Axes>"
      ]
     },
     "metadata": {},
     "output_type": "display_data"
    }
   ],
   "source": [
    "import numpy as np\n",
    "import matplotlib.pyplot as plt\n",
    "from sklearn.linear_model import LinearRegression\n",
    "from sklearn.preprocessing import PolynomialFeatures\n",
    "from sklearn.pipeline import make_pipeline\n",
    "import operator\n",
    "\n",
    "# Generate some data\n",
    "np.random.seed(0)\n",
    "x = 2 - 3 * np.random.normal(0, 1, 100)\n",
    "y = x - 2 * (x ** 2) + 0.5 * (x ** 3) + np.random.normal(-3, 3, 100)\n",
    "\n",
    "# Transform the data to include another axis (Make data 2d)\n",
    "x = x[:, np.newaxis]\n",
    "y = y[:, np.newaxis]\n",
    "\n",
    "# Define the polynomial features\n",
    "poly = PolynomialFeatures(degree=100)\n",
    "x_poly = poly.fit_transform(x)\n",
    "\n",
    "# Fit the model\n",
    "model = LinearRegression()\n",
    "model.fit(x_poly, y)\n",
    "\n",
    "# Visualize the results\n",
    "plt.scatter(x, y, s=10)\n",
    "\n",
    "# Sort the values of x before line plot\n",
    "y_pred = model.predict(x_poly)\n",
    "sort_axis = operator.itemgetter(0)\n",
    "sorted_zip = sorted(zip(x, y_pred), key=sort_axis)\n",
    "x, y_pred = zip(*sorted_zip)\n",
    "plt.plot(x, y_pred, color='m')\n",
    "plt.show()\n"
   ]
  },
  {
   "cell_type": "code",
   "execution_count": 17,
   "metadata": {},
   "outputs": [
    {
     "name": "stdout",
     "output_type": "stream",
     "text": [
      "Original feature count : 1\n",
      "Polynomail feature count :  4\n"
     ]
    }
   ],
   "source": [
    "print(\"Original feature count :\",len(x[0]))\n",
    "print(\"Polynomail feature count : \",len(x_poly[0]))"
   ]
  },
  {
   "cell_type": "code",
   "execution_count": 13,
   "metadata": {},
   "outputs": [
    {
     "ename": "ModuleNotFoundError",
     "evalue": "No module named 'skopt'",
     "output_type": "error",
     "traceback": [
      "\u001b[1;31m---------------------------------------------------------------------------\u001b[0m",
      "\u001b[1;31mModuleNotFoundError\u001b[0m                       Traceback (most recent call last)",
      "Cell \u001b[1;32mIn[13], line 5\u001b[0m\n\u001b[0;32m      3\u001b[0m \u001b[38;5;28;01mfrom\u001b[39;00m \u001b[38;5;21;01msklearn\u001b[39;00m\u001b[38;5;21;01m.\u001b[39;00m\u001b[38;5;21;01mlinear_model\u001b[39;00m \u001b[38;5;28;01mimport\u001b[39;00m LinearRegression\n\u001b[0;32m      4\u001b[0m \u001b[38;5;28;01mfrom\u001b[39;00m \u001b[38;5;21;01msklearn\u001b[39;00m\u001b[38;5;21;01m.\u001b[39;00m\u001b[38;5;21;01mpreprocessing\u001b[39;00m \u001b[38;5;28;01mimport\u001b[39;00m PolynomialFeatures\n\u001b[1;32m----> 5\u001b[0m \u001b[38;5;28;01mfrom\u001b[39;00m \u001b[38;5;21;01mskopt\u001b[39;00m \u001b[38;5;28;01mimport\u001b[39;00m gp_minimize\n\u001b[0;32m      6\u001b[0m \u001b[38;5;28;01mfrom\u001b[39;00m \u001b[38;5;21;01mskopt\u001b[39;00m\u001b[38;5;21;01m.\u001b[39;00m\u001b[38;5;21;01mspace\u001b[39;00m \u001b[38;5;28;01mimport\u001b[39;00m Integer\n\u001b[0;32m      7\u001b[0m \u001b[38;5;28;01mfrom\u001b[39;00m \u001b[38;5;21;01mskopt\u001b[39;00m\u001b[38;5;21;01m.\u001b[39;00m\u001b[38;5;21;01mplots\u001b[39;00m \u001b[38;5;28;01mimport\u001b[39;00m plot_convergence\n",
      "\u001b[1;31mModuleNotFoundError\u001b[0m: No module named 'skopt'"
     ]
    }
   ],
   "source": [
    "from sklearn.metrics import mean_squared_error\n",
    "from sklearn.model_selection import cross_val_score\n",
    "from sklearn.linear_model import LinearRegression\n",
    "from sklearn.preprocessing import PolynomialFeatures\n",
    "from skopt import gp_minimize\n",
    "from skopt.space import Integer\n",
    "from skopt.plots import plot_convergence\n",
    "\n",
    "# Function to find the best degree of polynomial using Bayesian optimization\n",
    "def find_best_degree_bayesian(x, y, max_degree=10):\n",
    "    # Define the objective function to minimize\n",
    "    def objective(degree):\n",
    "        poly = PolynomialFeatures(degree=int(degree))\n",
    "        x_poly = poly.fit_transform(x)\n",
    "        model = LinearRegression()\n",
    "        scores = cross_val_score(model, x_poly, y, cv=5, scoring='neg_mean_squared_error')\n",
    "        return -np.mean(scores)  # Minimize the negative MSE to maximize the score\n",
    "    \n",
    "    # Define the search space\n",
    "    search_space = [Integer(1, max_degree, name='degree')]\n",
    "    \n",
    "    # Perform Bayesian optimization\n",
    "    result = gp_minimize(objective, search_space, n_calls=20, random_state=42)\n",
    "    \n",
    "    # Extract the best degree and MSE\n",
    "    best_degree = int(result.x[0])\n",
    "    best_mse = -result.fun\n",
    "    \n",
    "    return best_degree, best_mse\n",
    "\n",
    "# Find the best degree using Bayesian optimization\n",
    "best_degree, best_mse = find_best_degree_bayesian(x, y)\n",
    "print(f\"Best degree: {best_degree}, Best MSE: {best_mse}\")\n"
   ]
  },
  {
   "cell_type": "code",
   "execution_count": null,
   "metadata": {},
   "outputs": [],
   "source": []
  }
 ],
 "metadata": {
  "kernelspec": {
   "display_name": "Tutorial_venv",
   "language": "python",
   "name": "venv"
  },
  "language_info": {
   "codemirror_mode": {
    "name": "ipython",
    "version": 3
   },
   "file_extension": ".py",
   "mimetype": "text/x-python",
   "name": "python",
   "nbconvert_exporter": "python",
   "pygments_lexer": "ipython3",
   "version": "3.12.4"
  }
 },
 "nbformat": 4,
 "nbformat_minor": 2
}
