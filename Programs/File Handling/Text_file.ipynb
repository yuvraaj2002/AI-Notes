{
 "cells": [
  {
   "cell_type": "code",
   "execution_count": 10,
   "metadata": {},
   "outputs": [],
   "source": [
    "# This will create a new file and write contents into it\n",
    "with open(\"Sample_small.txt\",'w') as f:\n",
    "    f.write(\"Yuvraj Singh\")"
   ]
  },
  {
   "cell_type": "code",
   "execution_count": 11,
   "metadata": {},
   "outputs": [],
   "source": [
    "# To append the data to existing file without overwriting it we can use append mode\n",
    "with open(\"Sample_small.txt\",'a') as f:\n",
    "    f.write(\"\\nAishveer Singh\")"
   ]
  },
  {
   "cell_type": "code",
   "execution_count": 12,
   "metadata": {},
   "outputs": [],
   "source": [
    "contents = ['\\nGurpreet Singh','\\nNavkiranjit Kaur']\n",
    "\n",
    "# To append multiple lines into the file we can use write lines\n",
    "with open(\"Sample_small.txt\",'a') as f:\n",
    "    f.writelines(contents)"
   ]
  },
  {
   "cell_type": "markdown",
   "metadata": {},
   "source": [
    "### Reading the data from file"
   ]
  },
  {
   "cell_type": "code",
   "execution_count": 13,
   "metadata": {},
   "outputs": [
    {
     "name": "stdout",
     "output_type": "stream",
     "text": [
      "Yuvraj Singh\n",
      "Aishveer Singh\n",
      "Gurpreet Singh\n",
      "Navkiranjit Kaur\n"
     ]
    }
   ],
   "source": [
    "# To load all the content into RAM in one go\n",
    "with open(\"Sample_small.txt\",'r') as f:\n",
    "    print(f.read())"
   ]
  },
  {
   "cell_type": "code",
   "execution_count": 19,
   "metadata": {},
   "outputs": [
    {
     "name": "stdout",
     "output_type": "stream",
     "text": [
      "Yuvra\n",
      "Current buffer pointer 1st load 5\n",
      "Current buffer pointer 2nd load 10\n",
      "Current buffer pointer after repointing 0\n"
     ]
    }
   ],
   "source": [
    "# To load only subset of characters\n",
    "chunk_size = 5\n",
    "with open(\"Sample_small.txt\",'r') as f:\n",
    "    print(f.read(chunk_size))\n",
    "\n",
    "    print(\"Current buffer pointer 1st load\",f.tell()) # Should be at 5\n",
    "\n",
    "    # This will laod next 5 characters\n",
    "    f.read(chunk_size)\n",
    "\n",
    "    print(\"Current buffer pointer 2nd load\",f.tell()) # Should be at 10\n",
    "\n",
    "    # Repointing the buffer pointer to 0\n",
    "    f.seek(0)\n",
    "    print(\"Current buffer pointer after repointing\",f.tell()) # Should be at 0\n",
    "    "
   ]
  },
  {
   "cell_type": "code",
   "execution_count": 26,
   "metadata": {},
   "outputs": [
    {
     "name": "stdout",
     "output_type": "stream",
     "text": [
      "She looked at her student wondering if she could ever get through. \"You need to learn to think for yourself,\" she wanted to tell him. \"Your friends are holding you back and bringing you down.\" But she didn't because she knew his friends were all that he had and even if that meant a life of misery, he would never give them up.Frank knew there was a correct time and place to reveal his secret and this wasn't it. The issue was that the secret might be revealed despite his best attempt to keep it from coming out. At this point, it was out of his control and completely dependant on those around him who also knew the secret. They wouldn't purposely reveal it, or at least he believed that, but they could easily inadvertently expose it. It was going to be a long hour as he nervously eyed everyone around the table hoping they would keep their mouths shut.\"Begin today!\" That's all the note said. There was no indication from where it came or who may have written it. Had it been meant for someone else? Meghan looked around the room, but nobody made eye contact back. For a brief moment, she thought it might be a message for her to follow her dreams, but ultimately decided it was easier to ignore it as she crumpled it up and threw it away.Samantha wanted to be famous. The problem was that she had never considered all the downsides to actually being famous. Had she taken the time to objectively consider these downsides, she would have never agreed to publically sing that first song.Debbie put her hand into the hole, sliding her hand down as far as her arm could reach. She wiggled her fingers hoping to touch something, but all she felt was air. She shifted the weight of her body to try and reach an inch or two more down the hole. Her fingers still touched nothing but air.The lone lamp post of the one-street town flickered, not quite dead but definitely on its way out. Suitcase by her side, she paid no heed to the light, the street or the town. A car was coming down the street and with her arm outstretched and thumb in the air, she had a plan.There once lived an old man and an old woman who were peasants and had to work hard to earn their daily bread. The old man used to go to fix fences and do other odd jobs for the farmers around, and while he was gone the old woman, his wife, did the work of the house and worked in their own little plot of land.It was just a burger. Why couldn't she understand that? She knew he'd completely changed his life around her eating habits, so why couldn't she give him a break this one time? She wasn't even supposed to have found out. Yes, he had promised her and yes, he had broken that promise, but still in his mind, all it had been was just a burger.He swung back the fishing pole and cast the line which ell 25 feet away into the river. The lure landed in the perfect spot and he was sure he would soon get a bite. He never expected that the bite would come from behind in the form of a bear.They say you only come to peace with yourself when you know yourself better than those around you. Derick knew nothing about this. He thought he had found peace but this was an illusion as he was about to find out with an unexpected occurrence that he actually knew nothing about himself.The robot clicked disapprovingly, gurgled briefly inside its cubical interior and extruded a pony glass of brownish liquid. \"Sir, you will undoubtedly end up in a drunkard's grave, dead of hepatic cirrhosis,\" it informed me virtuously as it returned my ID card. I glared as I pushed the glass across the table.Twenty-five years Dana had been waiting. She tried to be patient during that time but she hadn't always managed to be as patient as she'd like. But today the opportunity had finally come. The thing she always imagined would make her the happiest person in the world was about to happen. She didn't know why at this specific time she all of a sudden felt sick inside.\n"
     ]
    }
   ],
   "source": [
    "# If we want to read the data line by line\n",
    "with open(\"Sample_long.txt\",'r') as f:\n",
    "    print(f.readline())"
   ]
  },
  {
   "cell_type": "code",
   "execution_count": 29,
   "metadata": {},
   "outputs": [
    {
     "name": "stdout",
     "output_type": "stream",
     "text": [
      "udent wondering if s\n",
      "learn to think for y\n",
      "friends are holding \n",
      " didn't because she \n",
      "d even if that meant\n",
      "hem up.Frank knew th\n",
      "al his secret and th\n",
      "ret might be reveale\n",
      "om coming out. At th\n",
      "completely dependant\n",
      "ecret. They wouldn't\n",
      "ieved that, but they\n",
      "t was going to be a \n",
      "around the table hop\n",
      "egin today!\" That's \n",
      "on from where it cam\n",
      "n meant for someone \n",
      " nobody made eye con\n",
      "ht it might be a mes\n",
      "ltimately decided it\n",
      " it up and threw it \n",
      "roblem was that she \n",
      "o actually being fam\n",
      "ly consider these do\n",
      "publically sing that\n",
      " hole, sliding her h\n",
      "She wiggled her fing\n",
      "he felt was air. She\n",
      "nd reach an inch or \n",
      "l touched nothing bu\n",
      "et town flickered, n\n",
      "out. Suitcase by her\n",
      "e street or the town\n",
      "ith her arm outstret\n",
      "n.There once lived a\n",
      "ants and had to work\n",
      " man used to go to f\n",
      "farmers around, and \n",
      "e, did the work of t\n",
      "plot of land.It was \n",
      "nd that? She knew he\n",
      "r eating habits, so \n",
      "ne time? She wasn't \n",
      " had promised her an\n",
      "till in his mind, al\n",
      " back the fishing po\n",
      "way into the river. \n",
      "he was sure he would\n",
      " the bite would come\n",
      "say you only come to\n",
      "elf better than thos\n",
      "this. He thought he \n",
      " as he was about to \n",
      "hat he actually knew\n",
      " disapprovingly, gur\n",
      " and extruded a pony\n",
      "l undoubtedly end up\n",
      "cirrhosis,\" it infor\n",
      "ard. I glared as I p\n",
      "five years Dana had \n",
      "ring that time but s\n",
      "t as she'd like. But\n",
      " The thing she alway\n",
      "erson in the world w\n",
      "at this specific tim\n",
      "\n"
     ]
    }
   ],
   "source": [
    "# If we want to read the data in chunks\n",
    "chunk_size = 20\n",
    "with open(\"Sample_long.txt\",'r') as f:\n",
    "    chunk = f.read(chunk_size)\n",
    "    while chunk:\n",
    "        print(chunk)\n",
    "        chunk = f.read(chunk_size)"
   ]
  },
  {
   "cell_type": "code",
   "execution_count": 32,
   "metadata": {},
   "outputs": [
    {
     "ename": "ValueError",
     "evalue": "I/O operation on closed file.",
     "output_type": "error",
     "traceback": [
      "\u001b[1;31m---------------------------------------------------------------------------\u001b[0m",
      "\u001b[1;31mValueError\u001b[0m                                Traceback (most recent call last)",
      "Cell \u001b[1;32mIn[32], line 5\u001b[0m\n\u001b[0;32m      1\u001b[0m \u001b[38;5;28mdict\u001b[39m \u001b[38;5;241m=\u001b[39m {\u001b[38;5;124m'\u001b[39m\u001b[38;5;124mname\u001b[39m\u001b[38;5;124m'\u001b[39m : \u001b[38;5;124m'\u001b[39m\u001b[38;5;124mYuvraj Singh\u001b[39m\u001b[38;5;124m'\u001b[39m,\n\u001b[0;32m      2\u001b[0m         \u001b[38;5;124m'\u001b[39m\u001b[38;5;124mage\u001b[39m\u001b[38;5;124m'\u001b[39m : \u001b[38;5;241m56\u001b[39m}\n\u001b[0;32m      4\u001b[0m \u001b[38;5;28;01mwith\u001b[39;00m \u001b[38;5;28mopen\u001b[39m(\u001b[38;5;124m'\u001b[39m\u001b[38;5;124mSample_small.txt\u001b[39m\u001b[38;5;124m'\u001b[39m,\u001b[38;5;124m'\u001b[39m\u001b[38;5;124mw\u001b[39m\u001b[38;5;124m'\u001b[39m):\n\u001b[1;32m----> 5\u001b[0m     \u001b[43mf\u001b[49m\u001b[38;5;241;43m.\u001b[39;49m\u001b[43mwrite\u001b[49m\u001b[43m(\u001b[49m\u001b[38;5;28;43mstr\u001b[39;49m\u001b[43m(\u001b[49m\u001b[38;5;28;43mdict\u001b[39;49m\u001b[43m)\u001b[49m\u001b[43m)\u001b[49m\n",
      "\u001b[1;31mValueError\u001b[0m: I/O operation on closed file."
     ]
    }
   ],
   "source": [
    "dict = {'name' : 'Yuvraj Singh',\n",
    "        'age' : 56}\n",
    "\n",
    "with open('Sample_small.txt','w'):\n",
    "    f.write(str(dict))"
   ]
  },
  {
   "cell_type": "code",
   "execution_count": null,
   "metadata": {},
   "outputs": [],
   "source": []
  }
 ],
 "metadata": {
  "kernelspec": {
   "display_name": "Tutorial_venv",
   "language": "python",
   "name": "venv"
  },
  "language_info": {
   "codemirror_mode": {
    "name": "ipython",
    "version": 3
   },
   "file_extension": ".py",
   "mimetype": "text/x-python",
   "name": "python",
   "nbconvert_exporter": "python",
   "pygments_lexer": "ipython3",
   "version": "3.12.4"
  }
 },
 "nbformat": 4,
 "nbformat_minor": 2
}
