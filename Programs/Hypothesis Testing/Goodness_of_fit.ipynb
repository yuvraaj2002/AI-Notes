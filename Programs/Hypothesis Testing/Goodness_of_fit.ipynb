{
 "cells": [
  {
   "cell_type": "code",
   "execution_count": 1,
   "metadata": {},
   "outputs": [],
   "source": [
    "import numpy as np\n",
    "import pandas as pd\n",
    "from sklearn.metrics import confusion_matrix\n",
    "import scipy.stats as stats"
   ]
  },
  {
   "cell_type": "code",
   "execution_count": 9,
   "metadata": {},
   "outputs": [
    {
     "name": "stdout",
     "output_type": "stream",
     "text": [
      "Chi2: 1.6, p-value: 0.20590321073206466, Degrees of Freedom: 1\n",
      "Expected frequencies:\n",
      " [[2.5 2.5]\n",
      " [2.5 2.5]]\n",
      "Test result: Fail to reject the null hypothesis, For given LOS the model is performing good\n"
     ]
    }
   ],
   "source": [
    "# Function to calculate the goodness of fit test\n",
    "def goodness_of_fit_test(y_true, y_pred, alpha=0.05):\n",
    "\n",
    "    # Generate the confusion matrix\n",
    "    cm = confusion_matrix(y_true, y_pred)\n",
    "    \n",
    "    # Calculate the expected frequencies\n",
    "    row_sums = cm.sum(axis=1)\n",
    "    col_sums = cm.sum(axis=0)\n",
    "    total = cm.sum()\n",
    "    expected = np.outer(row_sums, col_sums) / total\n",
    "    \n",
    "    # Perform the chi-square test\n",
    "    chi2, p_value, dof, ex = stats.chi2_contingency(cm)\n",
    "    \n",
    "    # Compare p-value with the level of significance\n",
    "    if p_value < alpha:\n",
    "        result = \"Reject the null hypothesis\"\n",
    "    else:\n",
    "        result = \"Fail to reject the null hypothesis, For given LOS the model is performing good\"\n",
    "    \n",
    "    return chi2, p_value, dof, expected, result\n",
    "\n",
    "# Example usage\n",
    "y_true = [0, 1, 0, 1, 0, 1, 0, 1, 0, 1]\n",
    "y_pred = [0, 0, 0, 1, 0, 1, 1, 1, 0, 1]\n",
    "\n",
    "chi2, p, dof, expected, result = goodness_of_fit_test(y_true, y_pred)\n",
    "print(f\"Chi2: {chi2}, p-value: {p}, Degrees of Freedom: {dof}\")\n",
    "print(\"Expected frequencies:\\n\", expected)\n",
    "print(\"Test result:\", result)\n"
   ]
  }
 ],
 "metadata": {
  "kernelspec": {
   "display_name": "Tutorial_venv",
   "language": "python",
   "name": "venv"
  },
  "language_info": {
   "codemirror_mode": {
    "name": "ipython",
    "version": 3
   },
   "file_extension": ".py",
   "mimetype": "text/x-python",
   "name": "python",
   "nbconvert_exporter": "python",
   "pygments_lexer": "ipython3",
   "version": "3.12.4"
  }
 },
 "nbformat": 4,
 "nbformat_minor": 2
}
