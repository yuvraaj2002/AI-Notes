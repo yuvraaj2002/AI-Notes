{
 "cells": [
  {
   "cell_type": "code",
   "execution_count": 2,
   "metadata": {},
   "outputs": [],
   "source": [
    "import numpy as np\n",
    "from scipy.stats import norm"
   ]
  },
  {
   "cell_type": "code",
   "execution_count": 1,
   "metadata": {},
   "outputs": [
    {
     "name": "stdout",
     "output_type": "stream",
     "text": [
      "One sample z-test: Z-score = 1.8257418583505538, P-value = 0.067889154861829\n",
      "Two sample z-test: Z-score = 1.2909944487358056, P-value = 0.19670560245894686\n"
     ]
    }
   ],
   "source": [
    "def one_sample_z_test(sample_mean, population_mean, population_std, sample_size):\n",
    "    z_score = (sample_mean - population_mean) / (population_std / np.sqrt(sample_size))\n",
    "    p_value = 2 * (1 - norm.cdf(abs(z_score)))\n",
    "    return z_score, p_value\n",
    "\n",
    "def two_sample_z_test(sample1_mean, sample2_mean, sample1_std, sample2_std, sample1_size, sample2_size):\n",
    "    pooled_std = np.sqrt((sample1_std**2 / sample1_size) + (sample2_std**2 / sample2_size))\n",
    "    z_score = (sample1_mean - sample2_mean) / pooled_std\n",
    "    p_value = 2 * (1 - norm.cdf(abs(z_score)))\n",
    "    return z_score, p_value\n",
    "\n",
    "def compare_p_value(p_value, alpha=0.05):\n",
    "    if p_value < alpha:\n",
    "        return \"Reject the null hypothesis\"\n",
    "    else:\n",
    "        return \"Fail to reject the null hypothesis\"\n",
    "\n",
    "# Example usage:\n",
    "# One sample z-test\n",
    "sample_mean = 105\n",
    "population_mean = 100\n",
    "population_std = 15\n",
    "sample_size = 30\n",
    "z_score, p_value = one_sample_z_test(sample_mean, population_mean, population_std, sample_size)\n",
    "print(f\"One sample z-test: Z-score = {z_score}, P-value = {p_value}\")\n",
    "print(compare_p_value(p_value))\n",
    "\n",
    "# Two sample z-test\n",
    "sample1_mean = 105\n",
    "sample2_mean = 100\n",
    "sample1_std = 15\n",
    "sample2_std = 15\n",
    "sample1_size = 30\n",
    "sample2_size = 30\n",
    "z_score, p_value = two_sample_z_test(sample1_mean, sample2_mean, sample1_std, sample2_std, sample1_size, sample2_size)\n",
    "print(f\"Two sample z-test: Z-score = {z_score}, P-value = {p_value}\")\n",
    "print(compare_p_value(p_value))\n"
   ]
  }
 ],
 "metadata": {
  "kernelspec": {
   "display_name": "Tutorial_venv",
   "language": "python",
   "name": "venv"
  },
  "language_info": {
   "codemirror_mode": {
    "name": "ipython",
    "version": 3
   },
   "file_extension": ".py",
   "mimetype": "text/x-python",
   "name": "python",
   "nbconvert_exporter": "python",
   "pygments_lexer": "ipython3",
   "version": "3.12.4"
  }
 },
 "nbformat": 4,
 "nbformat_minor": 2
}
