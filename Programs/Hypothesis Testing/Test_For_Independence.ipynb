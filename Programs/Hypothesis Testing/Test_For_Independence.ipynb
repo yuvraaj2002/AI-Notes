{
 "cells": [
  {
   "cell_type": "code",
   "execution_count": null,
   "metadata": {},
   "outputs": [],
   "source": [
    "# In the context of the Chi-Square test for independence, the hypotheses are as follows:\n",
    "# Null Hypothesis (H0): The feature is independent of the target. This means there is no association between the feature and the target variable.\n",
    "# Alternative Hypothesis (H1): The feature is not independent of the target. This means there is an association between the feature and the target variable.\n",
    "\n",
    "import pandas as pd\n",
    "from scipy.stats import chi2_contingency\n",
    "\n",
    "def test_independence(data, feature, target):\n",
    "    # Create a contingency table\n",
    "    contingency_table = pd.crosstab(data[feature], data[target])\n",
    "    \n",
    "    # Perform the Chi-Square test\n",
    "    chi2, p, dof, expected = chi2_contingency(contingency_table)\n",
    "    \n",
    "    if p > 0.05:\n",
    "        return False  # Feature is independent of target (Accepting null hypothesis)\n",
    "    else:\n",
    "        return True  # Feature is not independent of target\n",
    "\n",
    "# Example usage:\n",
    "data = pd.read_csv('your_data.csv')\n",
    "feature = 'your_feature_column'\n",
    "target = 'your_target_column'\n",
    "if not test_independence(data, feature, target):\n",
    "    data = data.drop(columns=[feature])\n"
   ]
  }
 ],
 "metadata": {
  "language_info": {
   "name": "python"
  }
 },
 "nbformat": 4,
 "nbformat_minor": 2
}
