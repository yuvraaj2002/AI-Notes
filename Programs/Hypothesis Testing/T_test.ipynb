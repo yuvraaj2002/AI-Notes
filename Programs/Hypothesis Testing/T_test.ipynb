{
 "cells": [
  {
   "cell_type": "code",
   "execution_count": null,
   "metadata": {},
   "outputs": [],
   "source": [
    "import numpy as np\n",
    "from scipy import stats\n",
    "\n",
    "# Sample performance metrics for two models\n",
    "model1_performance = np.array([0.85, 0.87, 0.84, 0.86, 0.88])\n",
    "model2_performance = np.array([0.80, 0.82, 0.81, 0.83, 0.79])\n",
    "\n",
    "# Perform 2-sample t-test\n",
    "t_stat, p_value = stats.ttest_ind(model1_performance, model2_performance)\n",
    "\n",
    "print(f\"T-statistic: {t_stat}\")\n",
    "print(f\"P-value: {p_value}\")\n",
    "\n",
    "# Interpret the result\n",
    "alpha = 0.05\n",
    "if p_value < alpha:\n",
    "    print(\"Reject the null hypothesis: There is a significant difference between the two models' performance.\")\n",
    "else:\n",
    "    print(\"Fail to reject the null hypothesis: There is no significant difference between the two models' performance.\")\n"
   ]
  }
 ],
 "metadata": {
  "language_info": {
   "name": "python"
  }
 },
 "nbformat": 4,
 "nbformat_minor": 2
}
