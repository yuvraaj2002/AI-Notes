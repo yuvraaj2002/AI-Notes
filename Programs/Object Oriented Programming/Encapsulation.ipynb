{
 "cells": [
  {
   "cell_type": "markdown",
   "metadata": {},
   "source": [
    "### Problem 1\n",
    "Create a class BankAccount with private attributes for balance and methods for deposit and withdrawal. Ensure that the balance cannot be directly accessed or modified from outside the class."
   ]
  },
  {
   "cell_type": "code",
   "execution_count": 1,
   "metadata": {},
   "outputs": [
    {
     "name": "stdout",
     "output_type": "stream",
     "text": [
      "Current amount in bank account :  0\n",
      "Current amount in bank account :  500\n"
     ]
    },
    {
     "data": {
      "text/plain": [
       "'Amount withdrawn successfully. New balance: -500'"
      ]
     },
     "execution_count": 1,
     "metadata": {},
     "output_type": "execute_result"
    }
   ],
   "source": [
    "class BankAccount:\n",
    "\n",
    "    # Defining the constructor for initializing the class variables\n",
    "    def __init__(self):\n",
    "        self.__amount = 0\n",
    "\n",
    "    # Defining the function for withdrawal\n",
    "    def withdraw(self, withdraw_amount):\n",
    "        try:\n",
    "            if self.__amount == 0:\n",
    "                return \"Invalid transaction (Insufficient amount)\"\n",
    "            elif withdraw_amount <= 0:\n",
    "                return \"Invalid transaction (Withdrawal amount must be positive)\"\n",
    "            elif withdraw_amount > self.__amount:\n",
    "                return \"Invalid transaction (Insufficient funds)\"\n",
    "            else:\n",
    "                self.__amount -= withdraw_amount\n",
    "                return f\"Amount withdrawn successfully. New balance: {self.__amount}\"\n",
    "        except Exception as e:\n",
    "            return f\"An error occurred: {e}\"\n",
    "\n",
    "    # Defining the function for depositing the amount\n",
    "    def deposit(self, deposit_amount):\n",
    "        # Checking if the deposit amount is positive or not\n",
    "        if deposit_amount >= 0:\n",
    "            self.__amount += deposit_amount\n",
    "            return \"Amount deposited successfully\"\n",
    "        else:\n",
    "            return \"Invalid transaction (Deposit amount must be positive)\"\n",
    "        \n",
    "    # Getter to display the amount\n",
    "    def show_amount(self):\n",
    "        return self.__amount\n",
    "\n",
    "\n",
    "# Instantiating the class\n",
    "obj1 = BankAccount()\n",
    "print(\"Current amount in bank account : \",obj1.show_amount())\n",
    "\n",
    "# Depositing the amount\n",
    "obj1.deposit(1000)\n",
    "\n",
    "# Withdrawing the ammount\n",
    "obj1.withdraw(500)\n",
    "print(\"Current amount in bank account : \",obj1.show_amount())\n",
    "\n",
    "# Withdrawing more than present\n",
    "obj1.withdraw(1000)"
   ]
  },
  {
   "cell_type": "code",
   "execution_count": null,
   "metadata": {},
   "outputs": [],
   "source": []
  }
 ],
 "metadata": {
  "kernelspec": {
   "display_name": "Tutorial_venv",
   "language": "python",
   "name": "venv"
  },
  "language_info": {
   "codemirror_mode": {
    "name": "ipython",
    "version": 3
   },
   "file_extension": ".py",
   "mimetype": "text/x-python",
   "name": "python",
   "nbconvert_exporter": "python",
   "pygments_lexer": "ipython3",
   "version": "3.12.4"
  }
 },
 "nbformat": 4,
 "nbformat_minor": 2
}
