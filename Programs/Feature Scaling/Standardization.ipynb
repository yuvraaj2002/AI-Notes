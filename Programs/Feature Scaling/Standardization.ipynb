{
 "cells": [
  {
   "cell_type": "code",
   "execution_count": 8,
   "metadata": {},
   "outputs": [
    {
     "name": "stdout",
     "output_type": "stream",
     "text": [
      "Random Array: [  1   7   8  78 936   7   3   5  78]\n"
     ]
    },
    {
     "data": {
      "text/plain": [
       "array([-0.42925538, -0.40844767, -0.40497972, -0.16222308,  2.81327964,\n",
       "       -0.40844767, -0.42231948, -0.41538357, -0.16222308])"
      ]
     },
     "execution_count": 8,
     "metadata": {},
     "output_type": "execute_result"
    }
   ],
   "source": [
    "import numpy as np\n",
    "\n",
    "def standardize_value(array):\n",
    "    \"\"\"\n",
    "    Standardizes the given array by subtracting the mean and dividing by the standard deviation.\n",
    "\n",
    "    Parameters:\n",
    "    array (numpy.ndarray): The input array to be standardized.\n",
    "\n",
    "    Returns:\n",
    "    numpy.ndarray: The standardized array.\n",
    "    \"\"\"\n",
    "    # Calculating the mean and standard deviation\n",
    "    mean = np.mean(array)\n",
    "    std_dev = np.std(array)\n",
    "    scaled_arr = (array - mean) / std_dev\n",
    "    return scaled_arr\n",
    "\n",
    "# Generating some random values for the array\n",
    "random_array = np.array([1,7,8,78,936,7,3,5,78])\n",
    "print(\"Random Array:\", random_array)\n",
    "\n",
    "# Calling the function\n",
    "standardize_value(random_array)"
   ]
  },
  {
   "cell_type": "code",
   "execution_count": 11,
   "metadata": {},
   "outputs": [
    {
     "ename": "ModuleNotFoundError",
     "evalue": "No module named 'seaborn'",
     "output_type": "error",
     "traceback": [
      "\u001b[1;31m---------------------------------------------------------------------------\u001b[0m",
      "\u001b[1;31mModuleNotFoundError\u001b[0m                       Traceback (most recent call last)",
      "Cell \u001b[1;32mIn[11], line 1\u001b[0m\n\u001b[1;32m----> 1\u001b[0m \u001b[38;5;28;01mimport\u001b[39;00m \u001b[38;5;21;01mseaborn\u001b[39;00m \u001b[38;5;28;01mas\u001b[39;00m \u001b[38;5;21;01msns\u001b[39;00m\n\u001b[0;32m      3\u001b[0m \u001b[38;5;66;03m# Standardizing the random array\u001b[39;00m\n\u001b[0;32m      4\u001b[0m scaled_array \u001b[38;5;241m=\u001b[39m standardize_value(random_array)\n",
      "\u001b[1;31mModuleNotFoundError\u001b[0m: No module named 'seaborn'"
     ]
    }
   ],
   "source": [
    "import seaborn as sns\n",
    "\n",
    "# Standardizing the random array\n",
    "scaled_array = standardize_value(random_array)\n",
    "\n",
    "# Plotting the scatter plot for both the random array and the scaled array\n",
    "sns.set(style=\"whitegrid\")\n",
    "fig, axes = plt.subplots(1, 2, figsize=(10, 5))\n",
    "\n",
    "# Scatter plot for the random array\n",
    "sns.scatterplot(x=range(len(random_array)), y=random_array, color='blue', ax=axes[0])\n",
    "axes[0].set_title('Random Array')\n",
    "axes[0].set_xlabel('Index')\n",
    "axes[0].set_ylabel('Value')\n",
    "\n",
    "# Scatter plot for the scaled array\n",
    "sns.scatterplot(x=range(len(scaled_array)), y=scaled_array, color='red', ax=axes[1])\n",
    "axes[1].set_title('Scaled Array')\n",
    "axes[1].set_xlabel('Index')\n",
    "axes[1].set_ylabel('Value')\n",
    "\n",
    "plt.tight_layout()\n",
    "plt.show()\n"
   ]
  },
  {
   "cell_type": "code",
   "execution_count": null,
   "metadata": {},
   "outputs": [],
   "source": []
  }
 ],
 "metadata": {
  "kernelspec": {
   "display_name": "Advance_Rag",
   "language": "python",
   "name": ".venv"
  },
  "language_info": {
   "codemirror_mode": {
    "name": "ipython",
    "version": 3
   },
   "file_extension": ".py",
   "mimetype": "text/x-python",
   "name": "python",
   "nbconvert_exporter": "python",
   "pygments_lexer": "ipython3",
   "version": "3.12.4"
  }
 },
 "nbformat": 4,
 "nbformat_minor": 2
}
